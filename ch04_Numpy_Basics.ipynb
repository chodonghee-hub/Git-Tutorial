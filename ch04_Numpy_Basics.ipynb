{
  "cells": [
    {
      "cell_type": "markdown",
      "metadata": {
        "id": "view-in-github",
        "colab_type": "text"
      },
      "source": [
        "<a href=\"https://colab.research.google.com/github/chodonghee-hub/Git-Tutorial/blob/master/ch04_Numpy_Basics.ipynb\" target=\"_parent\"><img src=\"https://colab.research.google.com/assets/colab-badge.svg\" alt=\"Open In Colab\"/></a>"
      ]
    },
    {
      "cell_type": "markdown",
      "metadata": {
        "Collapsed": "false",
        "id": "Aim68PQetmzx"
      },
      "source": [
        "# Chapter 4.  NumPy Basics: Arrays and Vectorized Computation"
      ]
    },
    {
      "cell_type": "markdown",
      "metadata": {
        "Collapsed": "false",
        "id": "XwmVE4Lptmz0"
      },
      "source": [
        "NumPy, short for Numerical Python, is one of the most important foundational packages for numerical computing in Python.   \n",
        "Most computational packages providing scientific functionality use NumPy's array objects as the *lingua franca* for data exchange.   "
      ]
    },
    {
      "cell_type": "markdown",
      "metadata": {
        "Collapsed": "false",
        "id": "9ExaP03atmz0"
      },
      "source": [
        "Here are some of the things you’ll find in NumPy: \n",
        "* ndarray, an efficient multidimensional array providing fast array-oriented arithmetic operations and flexible broadcasting capabilities. \n",
        "* Mathematical functions for fast operations on entire arrays of data without having to write loops. \n",
        "* Tools for reading/writing array data to disk and working with memory-mapped files. \n",
        "* Linear algebra, random number generation, and Fourier transform capabilities. \n",
        "* A C API for connecting NumPy with libraries written in C, C++, or FORTRAN. "
      ]
    },
    {
      "cell_type": "markdown",
      "metadata": {
        "Collapsed": "false",
        "id": "lxUGnQYqtmz1"
      },
      "source": [
        "**Because NumPy provides an easy-to-use C API, it is straightforward to pass data to external libraries written in a low-level language and also for external libraries to return data to Python as NumPy arrays. This feature has made Python a language of choice for wrapping legacy C/C++/Fortran codebases and giving them a dynamic and easy-to-use interface.** "
      ]
    },
    {
      "cell_type": "markdown",
      "metadata": {
        "Collapsed": "false",
        "id": "tN2ht-58tmz1"
      },
      "source": [
        "For most data analysis applications, the main areas of functionality I'll focus on are: \n",
        "* Fast vectorized array operations for data munging and cleaning, subsetting and filtering, transformation, and any other kinds of computations \n",
        "* Common array algorithms like sorting, unique, and set operations \n",
        "* Efficient descriptive statistics and aggregating/summarizing data \n",
        "* Data alignment and relational data manipulations for merging and joining together heterogeneous datasets \n",
        "* Expressing conditional logic as array expressions instead of loops with if-elifelse branches \n",
        "* Group-wise data manipulations (aggregation, transformation, function application) "
      ]
    },
    {
      "cell_type": "markdown",
      "metadata": {
        "Collapsed": "false",
        "id": "f_LRg5jqtmz2"
      },
      "source": [
        "While NumPy provides a computational foundation for general numerical data processing, many readers will want to use pandas as the basis for most kinds of statistics\n",
        "or analytics, especially on tabular data. pandas also provides some more domainspecific functionality like time series manipulation, which is not present in NumPy."
      ]
    },
    {
      "cell_type": "markdown",
      "metadata": {
        "Collapsed": "false",
        "id": "ALybi6CRtmz2"
      },
      "source": [
        "One of the reasons NumPy is so important for numerical computations in Python is\n",
        "because it is designed for efficiency on large arrays of data. There are a number of\n",
        "reasons for this:\n",
        "- NumPy internally stores data in a contiguous block of memory, independent of other built-in Python objects. NumPy’s library of algorithms written in the C language can operate on this memory without any type checking or other overhead. NumPy arrays also use much less memory than built-in Python sequences.\n",
        "- NumPy operations perform complex computations on entire arrays without the need for Python for loops."
      ]
    },
    {
      "cell_type": "code",
      "execution_count": 337,
      "metadata": {
        "Collapsed": "false",
        "id": "Ir3_sZSWtmz3"
      },
      "outputs": [],
      "source": [
        "import numpy as np\n",
        "np.random.seed(12345)\n",
        "import matplotlib.pyplot as plt\n",
        "plt.rc('figure', figsize=(10, 6))\n",
        "np.set_printoptions(precision=4, suppress=True)"
      ]
    },
    {
      "cell_type": "markdown",
      "metadata": {
        "Collapsed": "false",
        "id": "4BKLxgMdtmz4"
      },
      "source": [
        "In this chapter and throughout the book, I use the standard\n",
        "NumPy convention of always using import numpy as np."
      ]
    },
    {
      "cell_type": "markdown",
      "metadata": {
        "Collapsed": "false",
        "id": "yZrv9_NZtmz4"
      },
      "source": [
        "To give you an idea of the performance difference, consider a NumPy array of one million integers, and the equivalent Python list:\n"
      ]
    },
    {
      "cell_type": "code",
      "execution_count": 338,
      "metadata": {
        "Collapsed": "false",
        "id": "EH9Vx-5etmz4"
      },
      "outputs": [],
      "source": [
        "#import numpy as np\n",
        "my_arr = np.arange(1000000)\n",
        "my_list = list(range(1000000))"
      ]
    },
    {
      "cell_type": "markdown",
      "metadata": {
        "Collapsed": "false",
        "id": "KoveWNbEtmz5"
      },
      "source": [
        "Now let’s multiply each sequence by 2:"
      ]
    },
    {
      "cell_type": "code",
      "execution_count": 339,
      "metadata": {
        "Collapsed": "false",
        "colab": {
          "base_uri": "https://localhost:8080/"
        },
        "id": "k2aw3XDKtmz5",
        "outputId": "f8c2dcf1-0e1d-4f0d-8d6c-462140f90fe3"
      },
      "outputs": [
        {
          "output_type": "stream",
          "name": "stdout",
          "text": [
            "CPU times: user 26.1 ms, sys: 0 ns, total: 26.1 ms\n",
            "Wall time: 28.1 ms\n"
          ]
        }
      ],
      "source": [
        "%time for _ in range(10): my_arr2 = my_arr * 2"
      ]
    },
    {
      "cell_type": "code",
      "execution_count": 340,
      "metadata": {
        "Collapsed": "false",
        "colab": {
          "base_uri": "https://localhost:8080/"
        },
        "id": "2bF-WdX9tmz5",
        "outputId": "38c25bda-585c-4a6c-a394-157a74f45593"
      },
      "outputs": [
        {
          "output_type": "stream",
          "name": "stdout",
          "text": [
            "CPU times: user 958 ms, sys: 164 ms, total: 1.12 s\n",
            "Wall time: 1.2 s\n"
          ]
        }
      ],
      "source": [
        "%time for _ in range(10): my_list2 = [x * 2 for x in my_list]"
      ]
    },
    {
      "cell_type": "code",
      "execution_count": 341,
      "metadata": {
        "Collapsed": "false",
        "colab": {
          "base_uri": "https://localhost:8080/"
        },
        "id": "IcsSv3bRtmz5",
        "outputId": "b789c334-72aa-4b8e-fba7-9b179a897c0e"
      },
      "outputs": [
        {
          "output_type": "stream",
          "name": "stdout",
          "text": [
            "CPU times: user 20.2 ms, sys: 1.07 ms, total: 21.2 ms\n",
            "Wall time: 21.8 ms\n"
          ]
        }
      ],
      "source": [
        "%%time\n",
        "for _ in range(10): \n",
        "        my_arr2 = my_arr * 2"
      ]
    },
    {
      "cell_type": "markdown",
      "metadata": {
        "Collapsed": "false",
        "id": "jGBrc0Hhtmz5"
      },
      "source": [
        "<span style=\"color:red\">NumPy-based algorithms are generally **10 to 100 times faster (or more)** than their pure Python counterparts and use significantly less memory."
      ]
    },
    {
      "cell_type": "markdown",
      "metadata": {
        "Collapsed": "false",
        "id": "4q89w_b1tmz6"
      },
      "source": [
        "## 4.1  The NumPy ndarray: A Multidimensional Array Object"
      ]
    },
    {
      "cell_type": "markdown",
      "metadata": {
        "Collapsed": "false",
        "id": "VF4IjfUftmz6"
      },
      "source": [
        "One of the key features of NumPy is its N-dimensional array object, or ndarray,\n",
        "which is a fast, flexible container for large datasets in Python. Arrays enable you to\n",
        "perform mathematical operations on whole blocks of data using similar syntax to the\n",
        "equivalent operations between scalar elements.\n"
      ]
    },
    {
      "cell_type": "markdown",
      "metadata": {
        "Collapsed": "false",
        "id": "pYBxLKwytmz6"
      },
      "source": [
        "To give you a flavor of how NumPy enables batch computations with similar syntax\n",
        "to scalar values on built-in Python objects, I first import NumPy and generate a small\n",
        "array of random data:\n"
      ]
    },
    {
      "cell_type": "code",
      "execution_count": 342,
      "metadata": {
        "Collapsed": "false",
        "colab": {
          "base_uri": "https://localhost:8080/"
        },
        "id": "QRyxquvPtmz6",
        "outputId": "1607b06a-3f86-4cf6-82bd-2e205c40636b"
      },
      "outputs": [
        {
          "output_type": "execute_result",
          "data": {
            "text/plain": [
              "array([[-0.2047,  0.4789, -0.5194],\n",
              "       [-0.5557,  1.9658,  1.3934]])"
            ]
          },
          "metadata": {},
          "execution_count": 342
        }
      ],
      "source": [
        "import numpy as np\n",
        "# Generate some standard normal random data\n",
        "data = np.random.randn(2, 3)\n",
        "data"
      ]
    },
    {
      "cell_type": "code",
      "execution_count": 343,
      "metadata": {
        "Collapsed": "false",
        "id": "cqVVvfVztmz6"
      },
      "outputs": [],
      "source": [
        "?np.random.randn"
      ]
    },
    {
      "cell_type": "code",
      "execution_count": 344,
      "metadata": {
        "Collapsed": "false",
        "colab": {
          "base_uri": "https://localhost:8080/"
        },
        "id": "9-P_R85_tmz6",
        "outputId": "db06acd0-14a6-4527-f7ee-7be58723bce1"
      },
      "outputs": [
        {
          "output_type": "execute_result",
          "data": {
            "text/plain": [
              "array([[-2.0471,  4.7894, -5.1944],\n",
              "       [-5.5573, 19.6578, 13.9341]])"
            ]
          },
          "metadata": {},
          "execution_count": 344
        }
      ],
      "source": [
        "data * 10"
      ]
    },
    {
      "cell_type": "code",
      "execution_count": 345,
      "metadata": {
        "Collapsed": "false",
        "colab": {
          "base_uri": "https://localhost:8080/"
        },
        "id": "qa71geCLtmz6",
        "outputId": "dfc78cef-ed5c-4e0b-fa69-ec8aef074249"
      },
      "outputs": [
        {
          "output_type": "execute_result",
          "data": {
            "text/plain": [
              "array([[-0.4094,  0.9579, -1.0389],\n",
              "       [-1.1115,  3.9316,  2.7868]])"
            ]
          },
          "metadata": {},
          "execution_count": 345
        }
      ],
      "source": [
        "data + data"
      ]
    },
    {
      "cell_type": "markdown",
      "metadata": {
        "Collapsed": "false",
        "id": "Wk4qrSc8tmz7"
      },
      "source": [
        "### <span style=\"color:red\">An ndarray is a generic multidimensional container for homogeneous data; that is, all of the elements must be the same type. </span>  \n",
        "Every array has a **shape**, a tuple indicating the size of each dimension, and a **dtype**, an object describing the *data type* of the array"
      ]
    },
    {
      "cell_type": "code",
      "execution_count": 346,
      "metadata": {
        "Collapsed": "false",
        "colab": {
          "base_uri": "https://localhost:8080/"
        },
        "id": "XgAzC0r6tmz7",
        "outputId": "4378e048-5b03-4d50-c975-eb6872f9f370"
      },
      "outputs": [
        {
          "output_type": "execute_result",
          "data": {
            "text/plain": [
              "(2, 3)"
            ]
          },
          "metadata": {},
          "execution_count": 346
        }
      ],
      "source": [
        "data.shape"
      ]
    },
    {
      "cell_type": "code",
      "execution_count": 347,
      "metadata": {
        "Collapsed": "false",
        "colab": {
          "base_uri": "https://localhost:8080/"
        },
        "id": "QJEcsLDotmz7",
        "outputId": "e2db8b32-27fe-4da1-c13c-a7576cda5da7"
      },
      "outputs": [
        {
          "output_type": "execute_result",
          "data": {
            "text/plain": [
              "dtype('float64')"
            ]
          },
          "metadata": {},
          "execution_count": 347
        }
      ],
      "source": [
        "data.dtype"
      ]
    },
    {
      "cell_type": "markdown",
      "metadata": {
        "Collapsed": "false",
        "id": "1rxmFBw_tmz7"
      },
      "source": [
        "Whenever you see “array,” “NumPy array,” or “ndarray” in the text,\n",
        "with few exceptions they all refer to the same thing: the ndarray\n",
        "object."
      ]
    },
    {
      "cell_type": "markdown",
      "metadata": {
        "Collapsed": "false",
        "id": "rNmTV5Frtmz7"
      },
      "source": [
        "### Creating ndarrays"
      ]
    },
    {
      "cell_type": "markdown",
      "metadata": {
        "Collapsed": "false",
        "id": "BPa3fCiqtmz7"
      },
      "source": [
        "The easiest way to create an array is to use the **array** function. This accepts any\n",
        "sequence-like object (including other arrays) and produces a new NumPy array containing the passed data. For example, a list is a good candidate for conversion:\n"
      ]
    },
    {
      "cell_type": "code",
      "execution_count": 348,
      "metadata": {
        "Collapsed": "false",
        "colab": {
          "base_uri": "https://localhost:8080/"
        },
        "id": "amsw83Rwtmz7",
        "outputId": "7635be92-955c-40b9-c26e-a967c762f75e"
      },
      "outputs": [
        {
          "output_type": "execute_result",
          "data": {
            "text/plain": [
              "array([6. , 7.5, 8. , 0. , 1. ])"
            ]
          },
          "metadata": {},
          "execution_count": 348
        }
      ],
      "source": [
        "data1 = [6, 7.5, 8, 0, 1]\n",
        "arr1 = np.array(data1)\n",
        "arr1"
      ]
    },
    {
      "cell_type": "code",
      "execution_count": 349,
      "metadata": {
        "Collapsed": "false",
        "colab": {
          "base_uri": "https://localhost:8080/"
        },
        "id": "ksxjDQN2tmz7",
        "outputId": "53eaf89b-7269-4ddc-d108-d39c7ecec0a4"
      },
      "outputs": [
        {
          "output_type": "stream",
          "name": "stdout",
          "text": [
            "[6.  7.5 8.  0.  1. ]\n"
          ]
        }
      ],
      "source": [
        "print(arr1)"
      ]
    },
    {
      "cell_type": "code",
      "execution_count": 350,
      "metadata": {
        "Collapsed": "false",
        "colab": {
          "base_uri": "https://localhost:8080/"
        },
        "id": "N_ipUcVstmz7",
        "outputId": "fae151e4-25e7-4e47-fc67-5cd587ff9495"
      },
      "outputs": [
        {
          "output_type": "stream",
          "name": "stdout",
          "text": [
            "<class 'numpy.ndarray'>\n"
          ]
        }
      ],
      "source": [
        "print(type(arr1))"
      ]
    },
    {
      "cell_type": "code",
      "execution_count": 351,
      "metadata": {
        "Collapsed": "false",
        "colab": {
          "base_uri": "https://localhost:8080/"
        },
        "id": "sFwupCJgtmz7",
        "outputId": "e3ce36e9-b34e-45d3-fbc8-7ae36f6498cd"
      },
      "outputs": [
        {
          "output_type": "execute_result",
          "data": {
            "text/plain": [
              "array([6. , 7.5, 8. , 0. , 1. ])"
            ]
          },
          "metadata": {},
          "execution_count": 351
        }
      ],
      "source": [
        "data11 = (6, 7.5, 8, 0, 1)\n",
        "arr11 = np.array(data1)\n",
        "arr11"
      ]
    },
    {
      "cell_type": "code",
      "execution_count": 352,
      "metadata": {
        "Collapsed": "false",
        "colab": {
          "base_uri": "https://localhost:8080/"
        },
        "id": "AgOxujqctmz7",
        "outputId": "2c3f7d69-97e2-4307-fcd2-9354bf0bf014"
      },
      "outputs": [
        {
          "output_type": "execute_result",
          "data": {
            "text/plain": [
              "array([6. , 7.5, 8. , 0. , 1. ])"
            ]
          },
          "metadata": {},
          "execution_count": 352
        }
      ],
      "source": [
        "data11 = {6, 7.5, 8, 0, 1}\n",
        "arr11 = np.array(data1)\n",
        "arr11"
      ]
    },
    {
      "cell_type": "markdown",
      "metadata": {
        "Collapsed": "false",
        "id": "dRCEJBQJtmz8"
      },
      "source": [
        "Nested sequences, like a list of equal-length lists, will be converted into a multidimensional array."
      ]
    },
    {
      "cell_type": "code",
      "execution_count": 353,
      "metadata": {
        "Collapsed": "false",
        "colab": {
          "base_uri": "https://localhost:8080/"
        },
        "id": "KsTC9gXctmz8",
        "outputId": "7a6de9ab-b5f0-464a-af5e-2a44ccb65fec"
      },
      "outputs": [
        {
          "output_type": "stream",
          "name": "stdout",
          "text": [
            "[[1 2 3 4]\n",
            " [5 6 7 8]]\n"
          ]
        },
        {
          "output_type": "execute_result",
          "data": {
            "text/plain": [
              "array([[1, 2, 3, 4],\n",
              "       [5, 6, 7, 8]])"
            ]
          },
          "metadata": {},
          "execution_count": 353
        }
      ],
      "source": [
        "data2 = [[1, 2, 3, 4], [5, 6, 7, 8]]\n",
        "arr2 = np.array(data2)\n",
        "print(arr2)\n",
        "arr2"
      ]
    },
    {
      "cell_type": "markdown",
      "metadata": {
        "Collapsed": "false",
        "id": "WPGuz4Iktmz8"
      },
      "source": [
        "Since data2 was a list of lists, the NumPy array **arr2** has two dimensions with shape\n",
        "inferred from the data. We can confirm this by inspecting the **ndim** and **shape**\n",
        "attributes:"
      ]
    },
    {
      "cell_type": "code",
      "execution_count": 354,
      "metadata": {
        "Collapsed": "false",
        "colab": {
          "base_uri": "https://localhost:8080/"
        },
        "id": "MJloc7gqtmz8",
        "outputId": "6fd0a300-ab39-4032-a14e-430efb755c7c"
      },
      "outputs": [
        {
          "output_type": "execute_result",
          "data": {
            "text/plain": [
              "2"
            ]
          },
          "metadata": {},
          "execution_count": 354
        }
      ],
      "source": [
        "# ndarray의 차원 수를 반환 \n",
        "arr2.ndim"
      ]
    },
    {
      "cell_type": "code",
      "execution_count": 355,
      "metadata": {
        "Collapsed": "false",
        "colab": {
          "base_uri": "https://localhost:8080/"
        },
        "id": "EzAUUm_itmz8",
        "outputId": "bf0e6552-7c79-4d9b-d652-9f3e7d0021cc"
      },
      "outputs": [
        {
          "output_type": "execute_result",
          "data": {
            "text/plain": [
              "(2, 4)"
            ]
          },
          "metadata": {},
          "execution_count": 355
        }
      ],
      "source": [
        "arr2.shape"
      ]
    },
    {
      "cell_type": "markdown",
      "metadata": {
        "Collapsed": "false",
        "id": "ZLUWU60ctmz8"
      },
      "source": [
        "Unless explicitly specified (more on this later), **np.array** tries to infer a good data\n",
        "type for the array that it creates. The data type is stored in a special **dtype** metadata\n",
        "object; for example, in the previous two examples we have:"
      ]
    },
    {
      "cell_type": "code",
      "execution_count": 356,
      "metadata": {
        "Collapsed": "false",
        "colab": {
          "base_uri": "https://localhost:8080/"
        },
        "id": "tDOj9rbVtmz8",
        "outputId": "dbac4bc4-6533-4d4c-9acb-7bad659f062b"
      },
      "outputs": [
        {
          "output_type": "execute_result",
          "data": {
            "text/plain": [
              "dtype('float64')"
            ]
          },
          "metadata": {},
          "execution_count": 356
        }
      ],
      "source": [
        "arr1.dtype"
      ]
    },
    {
      "cell_type": "code",
      "execution_count": 357,
      "metadata": {
        "Collapsed": "false",
        "colab": {
          "base_uri": "https://localhost:8080/"
        },
        "id": "KdUJ3kootmz8",
        "outputId": "9fba9b1d-9b4e-44dc-9326-d4283fca31cd"
      },
      "outputs": [
        {
          "output_type": "execute_result",
          "data": {
            "text/plain": [
              "dtype('int64')"
            ]
          },
          "metadata": {},
          "execution_count": 357
        }
      ],
      "source": [
        "arr2.dtype"
      ]
    },
    {
      "cell_type": "markdown",
      "metadata": {
        "Collapsed": "false",
        "id": "cFdZpKvstmz8"
      },
      "source": [
        "In addition to **np.array**, there are a number of other functions for creating new\n",
        "arrays. As examples, **zeros** and **ones** create arrays of 0s or 1s, respectively, with a\n",
        "given length or shape. **empty** creates an array without initializing its values to any particular value. To create a higher dimensional array with these methods, pass a tuple\n",
        "for the shape:"
      ]
    },
    {
      "cell_type": "code",
      "execution_count": 358,
      "metadata": {
        "Collapsed": "false",
        "colab": {
          "base_uri": "https://localhost:8080/"
        },
        "id": "geWuph1-tmz8",
        "outputId": "7dd2fa6c-c9f0-4bba-d726-54fdf803caa3"
      },
      "outputs": [
        {
          "output_type": "execute_result",
          "data": {
            "text/plain": [
              "array([0., 0., 0., 0., 0., 0., 0., 0., 0., 0.])"
            ]
          },
          "metadata": {},
          "execution_count": 358
        }
      ],
      "source": [
        "np.zeros(10)"
      ]
    },
    {
      "cell_type": "markdown",
      "metadata": {
        "Collapsed": "false",
        "id": "O62Tw_j0tmz8"
      },
      "source": [
        "To create a higher dimensional array with these methods, pass a tuple for the shape."
      ]
    },
    {
      "cell_type": "code",
      "execution_count": 359,
      "metadata": {
        "Collapsed": "false",
        "colab": {
          "base_uri": "https://localhost:8080/"
        },
        "id": "B0LYvW4jtmz9",
        "outputId": "2275f294-ea3e-46dd-ad64-75d127025049"
      },
      "outputs": [
        {
          "output_type": "execute_result",
          "data": {
            "text/plain": [
              "array([[0., 0., 0., 0., 0., 0.],\n",
              "       [0., 0., 0., 0., 0., 0.],\n",
              "       [0., 0., 0., 0., 0., 0.]])"
            ]
          },
          "metadata": {},
          "execution_count": 359
        }
      ],
      "source": [
        "np.zeros((3, 6))"
      ]
    },
    {
      "cell_type": "markdown",
      "metadata": {
        "Collapsed": "false",
        "id": "DxzK0w5Ftmz9"
      },
      "source": [
        "**empty** creates an array without initializing its values to any particular value.  "
      ]
    },
    {
      "cell_type": "code",
      "execution_count": 360,
      "metadata": {
        "Collapsed": "false",
        "colab": {
          "base_uri": "https://localhost:8080/"
        },
        "id": "HcVQCJNitmz9",
        "outputId": "8b9d7d34-e251-438f-c66a-9cc89388c71a"
      },
      "outputs": [
        {
          "output_type": "execute_result",
          "data": {
            "text/plain": [
              "array([[[4.6772e-310, 4.6772e-310],\n",
              "        [2.4209e-322,         nan],\n",
              "        [0.0000e+000, 0.0000e+000]],\n",
              "\n",
              "       [[0.0000e+000, 0.0000e+000],\n",
              "        [0.0000e+000, 0.0000e+000],\n",
              "        [3.9991e+252, 6.9500e-310]]])"
            ]
          },
          "metadata": {},
          "execution_count": 360
        }
      ],
      "source": [
        "np.empty((2, 3, 2))"
      ]
    },
    {
      "cell_type": "markdown",
      "metadata": {
        "Collapsed": "false",
        "id": "tyR_H_ydtmz9"
      },
      "source": [
        "<img style=\"float: left;\" src=\"pic/pic_0_1.png\">"
      ]
    },
    {
      "cell_type": "markdown",
      "metadata": {
        "Collapsed": "false",
        "id": "K2J6aMottmz9"
      },
      "source": [
        "<span style=\"color:red\">It's not safe to assume that np.empty will return an array of all zeros.   \n",
        "In some cases, it may return uninitialized “garbage” values.\n"
      ]
    },
    {
      "cell_type": "markdown",
      "metadata": {
        "Collapsed": "false",
        "id": "0vlR50OPtmz9"
      },
      "source": [
        "**arange** is an array-valued version of the built-in Python range function."
      ]
    },
    {
      "cell_type": "code",
      "execution_count": 361,
      "metadata": {
        "Collapsed": "false",
        "colab": {
          "base_uri": "https://localhost:8080/"
        },
        "id": "N75HFKQhtmz9",
        "outputId": "8958ac2c-b34c-45da-9a43-32b27ed21920"
      },
      "outputs": [
        {
          "output_type": "execute_result",
          "data": {
            "text/plain": [
              "array([ 0,  1,  2,  3,  4,  5,  6,  7,  8,  9, 10, 11, 12, 13, 14])"
            ]
          },
          "metadata": {},
          "execution_count": 361
        }
      ],
      "source": [
        "np.arange(15)"
      ]
    },
    {
      "cell_type": "markdown",
      "metadata": {
        "Collapsed": "false",
        "id": "O6qZbIwjtmz9"
      },
      "source": [
        "<img style=\"float: left;\" src=\"pic/pic_4_1.png\" width=\"700\">"
      ]
    },
    {
      "cell_type": "markdown",
      "metadata": {
        "Collapsed": "false",
        "id": "vUuhGJSVtmz9"
      },
      "source": [
        "### Data Types for ndarrays"
      ]
    },
    {
      "cell_type": "markdown",
      "metadata": {
        "Collapsed": "false",
        "id": "_X8KQr2Rtmz9"
      },
      "source": [
        "The *data type* or **dtype** is a special object containing the information (or metadata, data about data) the ndarray needs to interpret a chunk of memory as a particular type of data."
      ]
    },
    {
      "cell_type": "code",
      "execution_count": 362,
      "metadata": {
        "Collapsed": "false",
        "id": "_18E4Fjytmz9"
      },
      "outputs": [],
      "source": [
        "arr1 = np.array([1, 2, 3], dtype=np.float64)"
      ]
    },
    {
      "cell_type": "code",
      "execution_count": 363,
      "metadata": {
        "Collapsed": "false",
        "id": "Vy9_SgLOtmz9"
      },
      "outputs": [],
      "source": [
        "arr2 = np.array([1, 2, 3], dtype=np.int32)"
      ]
    },
    {
      "cell_type": "code",
      "execution_count": 364,
      "metadata": {
        "Collapsed": "false",
        "colab": {
          "base_uri": "https://localhost:8080/"
        },
        "id": "lIhreR7Xtmz-",
        "outputId": "1dd44911-533f-46f2-9068-aba3accdd694"
      },
      "outputs": [
        {
          "output_type": "execute_result",
          "data": {
            "text/plain": [
              "dtype('float64')"
            ]
          },
          "metadata": {},
          "execution_count": 364
        }
      ],
      "source": [
        "arr1.dtype"
      ]
    },
    {
      "cell_type": "code",
      "execution_count": 365,
      "metadata": {
        "Collapsed": "false",
        "colab": {
          "base_uri": "https://localhost:8080/"
        },
        "id": "eEjg-l8itmz-",
        "outputId": "21d0ae80-400a-430c-e3a5-2cec0c5c7114"
      },
      "outputs": [
        {
          "output_type": "execute_result",
          "data": {
            "text/plain": [
              "dtype('int32')"
            ]
          },
          "metadata": {},
          "execution_count": 365
        }
      ],
      "source": [
        "arr2.dtype"
      ]
    },
    {
      "cell_type": "markdown",
      "metadata": {
        "Collapsed": "false",
        "id": "Hvsh7ElXtmz-"
      },
      "source": [
        "The numerical dtypes are named the same way: a type name, like float or int, followed by a number indicating the number of bits per element. A standard doubleprecision floating-point value (what’s used under the hood in Python’s float object) takes up 8 bytes or 64 bits. Thus, this type is known in NumPy as float64. See Table 4-2 for a full listing of NumPy’s supported data types."
      ]
    },
    {
      "cell_type": "markdown",
      "metadata": {
        "Collapsed": "false",
        "id": "lEAt8550tmz-"
      },
      "source": [
        "<img style=\"float: left;\" src=\"pic/pic_0_2.png\">"
      ]
    },
    {
      "cell_type": "markdown",
      "metadata": {
        "Collapsed": "false",
        "id": "peH6KoAotmz-"
      },
      "source": [
        "Don’t worry about memorizing the NumPy dtypes, especially if you’re a new user.   \n",
        "It’s often only necessary to care about the general kind of data you’re dealing with, whether floating point, complex, integer, boolean, string, or general Python object.   \n",
        "When you need more control over how data are stored in memory and on disk, especially large datasets, it is good to know that you have control over the storage type."
      ]
    },
    {
      "cell_type": "markdown",
      "metadata": {
        "Collapsed": "false",
        "id": "sbNZk8yMtmz-"
      },
      "source": [
        "<img style=\"float: left;\" src=\"pic/pic_4_2.png\" width=\"700\">"
      ]
    },
    {
      "cell_type": "markdown",
      "metadata": {
        "Collapsed": "false",
        "id": "Bvgd2cEWtmz-"
      },
      "source": [
        "You can explicitly convert or *cast* an array from one dtype to another using ndarray’s **astype** method."
      ]
    },
    {
      "cell_type": "code",
      "execution_count": 366,
      "metadata": {
        "Collapsed": "false",
        "id": "EFsy8rvctmz-"
      },
      "outputs": [],
      "source": [
        "arr = np.array([1, 2, 3, 4, 5])"
      ]
    },
    {
      "cell_type": "code",
      "execution_count": 367,
      "metadata": {
        "Collapsed": "false",
        "colab": {
          "base_uri": "https://localhost:8080/"
        },
        "id": "YFWPFeTgtmz-",
        "outputId": "34626660-c2ba-460a-c5e0-0c760bd09c55"
      },
      "outputs": [
        {
          "output_type": "execute_result",
          "data": {
            "text/plain": [
              "dtype('int64')"
            ]
          },
          "metadata": {},
          "execution_count": 367
        }
      ],
      "source": [
        "arr.dtype"
      ]
    },
    {
      "cell_type": "code",
      "execution_count": 368,
      "metadata": {
        "Collapsed": "false",
        "id": "GsmkCnmytmz-"
      },
      "outputs": [],
      "source": [
        "float_arr = arr.astype(np.float64)"
      ]
    },
    {
      "cell_type": "code",
      "execution_count": 369,
      "metadata": {
        "Collapsed": "false",
        "colab": {
          "base_uri": "https://localhost:8080/"
        },
        "id": "TaaQ2J8ttmz-",
        "outputId": "741af688-cad6-4bd7-bea8-4f73ded2e031"
      },
      "outputs": [
        {
          "output_type": "execute_result",
          "data": {
            "text/plain": [
              "array([1., 2., 3., 4., 5.])"
            ]
          },
          "metadata": {},
          "execution_count": 369
        }
      ],
      "source": [
        "float_arr"
      ]
    },
    {
      "cell_type": "code",
      "execution_count": 370,
      "metadata": {
        "Collapsed": "false",
        "colab": {
          "base_uri": "https://localhost:8080/"
        },
        "id": "png_M833tmz-",
        "outputId": "43a26e26-e695-435f-d302-b5bee0ec5ce9"
      },
      "outputs": [
        {
          "output_type": "stream",
          "name": "stdout",
          "text": [
            "[1. 2. 3. 4. 5.]\n"
          ]
        }
      ],
      "source": [
        "print(float_arr)"
      ]
    },
    {
      "cell_type": "code",
      "execution_count": 371,
      "metadata": {
        "Collapsed": "false",
        "colab": {
          "base_uri": "https://localhost:8080/"
        },
        "id": "ozw2wSNjtmz-",
        "outputId": "9330e18f-4df8-4bb4-fc06-bfa9ef3f259d"
      },
      "outputs": [
        {
          "output_type": "execute_result",
          "data": {
            "text/plain": [
              "dtype('float64')"
            ]
          },
          "metadata": {},
          "execution_count": 371
        }
      ],
      "source": [
        "float_arr.dtype"
      ]
    },
    {
      "cell_type": "markdown",
      "metadata": {
        "Collapsed": "false",
        "id": "7QEWeuz5tmz_"
      },
      "source": [
        "If I cast some floating-point numbers to be of integer dtype, the decimal part will be truncated."
      ]
    },
    {
      "cell_type": "code",
      "execution_count": 372,
      "metadata": {
        "Collapsed": "false",
        "colab": {
          "base_uri": "https://localhost:8080/"
        },
        "id": "dxYMPu_Ptmz_",
        "outputId": "b06255d0-aa1e-4ef8-ca7d-2432fcb68886"
      },
      "outputs": [
        {
          "output_type": "execute_result",
          "data": {
            "text/plain": [
              "array([ 3.7, -1.2, -2.6,  0.5, 12.9, 10.1])"
            ]
          },
          "metadata": {},
          "execution_count": 372
        }
      ],
      "source": [
        "arr = np.array([3.7, -1.2, -2.6, 0.5, 12.9, 10.1])\n",
        "arr"
      ]
    },
    {
      "cell_type": "code",
      "execution_count": 373,
      "metadata": {
        "Collapsed": "false",
        "colab": {
          "base_uri": "https://localhost:8080/"
        },
        "id": "rQLzrCaTtmz_",
        "outputId": "675c69c2-83dc-4c0c-bf46-2378ba302205"
      },
      "outputs": [
        {
          "output_type": "execute_result",
          "data": {
            "text/plain": [
              "array([ 3, -1, -2,  0, 12, 10], dtype=int32)"
            ]
          },
          "metadata": {},
          "execution_count": 373
        }
      ],
      "source": [
        "arr.astype(np.int32)"
      ]
    },
    {
      "cell_type": "markdown",
      "metadata": {
        "Collapsed": "false",
        "id": "o4wX3y7ctmz_"
      },
      "source": [
        "If you have an array of strings representing numbers, you can use astype to convert them to numeric form."
      ]
    },
    {
      "cell_type": "code",
      "execution_count": 374,
      "metadata": {
        "Collapsed": "false",
        "id": "Iy05xwgwtmz_"
      },
      "outputs": [],
      "source": [
        "numeric_strings = np.array(['1.25', '-9.6', '42'], dtype=np.string_)"
      ]
    },
    {
      "cell_type": "code",
      "execution_count": 375,
      "metadata": {
        "Collapsed": "false",
        "colab": {
          "base_uri": "https://localhost:8080/"
        },
        "id": "EnxQyqadtmz_",
        "outputId": "9fa52855-3914-4030-8bbf-ec0a022160bf"
      },
      "outputs": [
        {
          "output_type": "execute_result",
          "data": {
            "text/plain": [
              "dtype('S4')"
            ]
          },
          "metadata": {},
          "execution_count": 375
        }
      ],
      "source": [
        "numeric_strings.dtype"
      ]
    },
    {
      "cell_type": "code",
      "execution_count": 376,
      "metadata": {
        "Collapsed": "false",
        "colab": {
          "base_uri": "https://localhost:8080/"
        },
        "id": "lovz0gIntmz_",
        "outputId": "b865d6de-bc5a-4bb0-b0ff-5b95085af86d"
      },
      "outputs": [
        {
          "output_type": "execute_result",
          "data": {
            "text/plain": [
              "array([b'1.25', b'-9.6', b'42'], dtype='|S4')"
            ]
          },
          "metadata": {},
          "execution_count": 376
        }
      ],
      "source": [
        "numeric_strings"
      ]
    },
    {
      "cell_type": "markdown",
      "metadata": {
        "Collapsed": "false",
        "id": "A2hgfB5Ctmz_"
      },
      "source": [
        "Bytes literals are always prefixed with 'b' or 'B'; they produce an instance of the bytes type instead of the str type."
      ]
    },
    {
      "cell_type": "code",
      "execution_count": 377,
      "metadata": {
        "Collapsed": "false",
        "colab": {
          "base_uri": "https://localhost:8080/"
        },
        "id": "saK_H2tJtmz_",
        "outputId": "5db253e3-50f7-46e0-b4ae-c7c598a1f7cf"
      },
      "outputs": [
        {
          "output_type": "stream",
          "name": "stdout",
          "text": [
            "|S1\n"
          ]
        },
        {
          "output_type": "execute_result",
          "data": {
            "text/plain": [
              "array([b'3', b'4'], dtype='|S1')"
            ]
          },
          "metadata": {},
          "execution_count": 377
        }
      ],
      "source": [
        "x=np.array(['3','4'],dtype=np.string_)\n",
        "print(x.dtype)\n",
        "x"
      ]
    },
    {
      "cell_type": "code",
      "execution_count": 378,
      "metadata": {
        "Collapsed": "false",
        "colab": {
          "base_uri": "https://localhost:8080/"
        },
        "id": "R1jxNPKotmz_",
        "outputId": "d6136a03-2dda-46b7-8c14-b9e0cf08ddcc"
      },
      "outputs": [
        {
          "output_type": "stream",
          "name": "stdout",
          "text": [
            "<U1\n"
          ]
        },
        {
          "output_type": "execute_result",
          "data": {
            "text/plain": [
              "array(['3', '4'], dtype='<U1')"
            ]
          },
          "metadata": {},
          "execution_count": 378
        }
      ],
      "source": [
        "y=np.array(['3','4'])\n",
        "print(y.dtype)\n",
        "y"
      ]
    },
    {
      "cell_type": "code",
      "execution_count": 379,
      "metadata": {
        "Collapsed": "false",
        "colab": {
          "base_uri": "https://localhost:8080/"
        },
        "id": "SCd4olXBtmz_",
        "outputId": "5fa23c02-8ffd-4188-88ea-9d61b4232aea"
      },
      "outputs": [
        {
          "output_type": "execute_result",
          "data": {
            "text/plain": [
              "array([3, 4], dtype=int32)"
            ]
          },
          "metadata": {},
          "execution_count": 379
        }
      ],
      "source": [
        "x.astype(np.int32)"
      ]
    },
    {
      "cell_type": "code",
      "execution_count": 380,
      "metadata": {
        "Collapsed": "false",
        "colab": {
          "base_uri": "https://localhost:8080/"
        },
        "id": "waqAkAbptmz_",
        "outputId": "f8d41f0c-374d-4693-f549-18d646ecae65"
      },
      "outputs": [
        {
          "output_type": "execute_result",
          "data": {
            "text/plain": [
              "array([3, 4], dtype=int32)"
            ]
          },
          "metadata": {},
          "execution_count": 380
        }
      ],
      "source": [
        "y.astype(np.int32)"
      ]
    },
    {
      "cell_type": "markdown",
      "metadata": {
        "Collapsed": "false",
        "id": "ilk_I82utmz_"
      },
      "source": [
        "<img style=\"float: left;\" src=\"pic/pic_0_1.png\">"
      ]
    },
    {
      "cell_type": "markdown",
      "metadata": {
        "Collapsed": "false",
        "id": "LizUK0qLtmz_"
      },
      "source": [
        "<span style=\"color:red\">It’s important to be cautious when using the numpy.string_ type, as string data in NumPy is fixed size and may truncate input without warning. "
      ]
    },
    {
      "cell_type": "markdown",
      "metadata": {
        "Collapsed": "false",
        "id": "-4LNoDJPtm0A"
      },
      "source": [
        "<img style=\"float: left;\" src=\"pic/pic_0_2.png\">"
      ]
    },
    {
      "cell_type": "markdown",
      "metadata": {
        "Collapsed": "false",
        "id": "0XlI0hnbtm0A"
      },
      "source": [
        "Calling astype always creates a new array (a copy of the data), even if the new dtype is the same as the old dtype.\n"
      ]
    },
    {
      "cell_type": "markdown",
      "metadata": {
        "Collapsed": "false",
        "id": "uj48Y6jjtm0A"
      },
      "source": [
        "### Arithmetic with NumPy Arrays"
      ]
    },
    {
      "cell_type": "code",
      "source": [
        "test = [1,2,3]"
      ],
      "metadata": {
        "id": "5vXtaem71ZAx"
      },
      "execution_count": 381,
      "outputs": []
    },
    {
      "cell_type": "code",
      "source": [
        "test2 = np.array(test)"
      ],
      "metadata": {
        "id": "-7tqQ96r17bb"
      },
      "execution_count": 382,
      "outputs": []
    },
    {
      "cell_type": "code",
      "source": [
        "test2"
      ],
      "metadata": {
        "colab": {
          "base_uri": "https://localhost:8080/"
        },
        "id": "kZYszX2K19aa",
        "outputId": "f226b5b2-4d68-4be9-ffef-54daccd48961"
      },
      "execution_count": 383,
      "outputs": [
        {
          "output_type": "execute_result",
          "data": {
            "text/plain": [
              "array([1, 2, 3])"
            ]
          },
          "metadata": {},
          "execution_count": 383
        }
      ]
    },
    {
      "cell_type": "code",
      "source": [
        "type(test2)"
      ],
      "metadata": {
        "colab": {
          "base_uri": "https://localhost:8080/"
        },
        "id": "Ybl44nkD1-VZ",
        "outputId": "b22599cd-b600-4417-e55d-bae4ab7ef160"
      },
      "execution_count": 384,
      "outputs": [
        {
          "output_type": "execute_result",
          "data": {
            "text/plain": [
              "numpy.ndarray"
            ]
          },
          "metadata": {},
          "execution_count": 384
        }
      ]
    },
    {
      "cell_type": "code",
      "source": [
        ""
      ],
      "metadata": {
        "id": "_q9P9A4a1_qT"
      },
      "execution_count": 384,
      "outputs": []
    },
    {
      "cell_type": "markdown",
      "metadata": {
        "Collapsed": "false",
        "id": "ehQ2p4fztm0A"
      },
      "source": [
        "Arrays are important because they enable you to express batch operations on data without writing any for loops. NumPy users call this <span style=\"color:red\"> **vectorization** <span style=\"color:black\">. Any arithmetic operations between equal-size arrays applies the operation element-wise:\n"
      ]
    },
    {
      "cell_type": "code",
      "execution_count": 385,
      "metadata": {
        "Collapsed": "false",
        "id": "ynUEQom0tm0A"
      },
      "outputs": [],
      "source": [
        "arr = np.array([[1., 2., 3.], [4., 5., 6.]])"
      ]
    },
    {
      "cell_type": "code",
      "execution_count": 386,
      "metadata": {
        "Collapsed": "false",
        "colab": {
          "base_uri": "https://localhost:8080/"
        },
        "id": "q1K4C4Ldtm0A",
        "outputId": "86d491ca-9ced-4d6b-9a1e-f4bfb2c80c95"
      },
      "outputs": [
        {
          "output_type": "execute_result",
          "data": {
            "text/plain": [
              "array([[1., 2., 3.],\n",
              "       [4., 5., 6.]])"
            ]
          },
          "metadata": {},
          "execution_count": 386
        }
      ],
      "source": [
        "arr"
      ]
    },
    {
      "cell_type": "code",
      "execution_count": 387,
      "metadata": {
        "Collapsed": "false",
        "colab": {
          "base_uri": "https://localhost:8080/"
        },
        "id": "LpyrY8Qztm0A",
        "outputId": "1219096f-a448-44fd-cf6c-7f1cce3fceca"
      },
      "outputs": [
        {
          "output_type": "execute_result",
          "data": {
            "text/plain": [
              "array([[ 1.,  4.,  9.],\n",
              "       [16., 25., 36.]])"
            ]
          },
          "metadata": {},
          "execution_count": 387
        }
      ],
      "source": [
        "arr * arr"
      ]
    },
    {
      "cell_type": "code",
      "execution_count": 388,
      "metadata": {
        "Collapsed": "false",
        "colab": {
          "base_uri": "https://localhost:8080/"
        },
        "id": "_OhZ71QGtm0A",
        "outputId": "6216b102-fbac-46d3-f4d3-fb7c9618e97c"
      },
      "outputs": [
        {
          "output_type": "execute_result",
          "data": {
            "text/plain": [
              "array([[0., 0., 0.],\n",
              "       [0., 0., 0.]])"
            ]
          },
          "metadata": {},
          "execution_count": 388
        }
      ],
      "source": [
        "arr - arr"
      ]
    },
    {
      "cell_type": "code",
      "execution_count": 389,
      "metadata": {
        "Collapsed": "false",
        "colab": {
          "base_uri": "https://localhost:8080/"
        },
        "id": "szWERsAZtm0A",
        "outputId": "e25be759-b6f4-4c9d-8c26-d9ffc36c1c86"
      },
      "outputs": [
        {
          "output_type": "execute_result",
          "data": {
            "text/plain": [
              "array([[1.    , 0.5   , 0.3333],\n",
              "       [0.25  , 0.2   , 0.1667]])"
            ]
          },
          "metadata": {},
          "execution_count": 389
        }
      ],
      "source": [
        "1 / arr"
      ]
    },
    {
      "cell_type": "markdown",
      "metadata": {
        "Collapsed": "false",
        "id": "-Vg7rVtztm0A"
      },
      "source": [
        "The number of digits of precision for floating point is 4. Why?   --- > Take a look at first cell."
      ]
    },
    {
      "cell_type": "code",
      "execution_count": 390,
      "metadata": {
        "Collapsed": "false",
        "id": "xxHsfoQjtm0A"
      },
      "outputs": [],
      "source": [
        "np.set_printoptions(precision=4, suppress=True)"
      ]
    },
    {
      "cell_type": "code",
      "execution_count": 391,
      "metadata": {
        "Collapsed": "false",
        "colab": {
          "base_uri": "https://localhost:8080/"
        },
        "id": "79dFEcqvtm0A",
        "outputId": "eec585eb-5378-47aa-986f-c3dbe26e37c4"
      },
      "outputs": [
        {
          "output_type": "execute_result",
          "data": {
            "text/plain": [
              "array([[0., 0., 0.],\n",
              "       [0., 0., 0.]])"
            ]
          },
          "metadata": {},
          "execution_count": 391
        }
      ],
      "source": [
        "1 / (arr * 100000)"
      ]
    },
    {
      "cell_type": "code",
      "execution_count": 392,
      "metadata": {
        "Collapsed": "false",
        "colab": {
          "base_uri": "https://localhost:8080/"
        },
        "id": "XzZukutwtm0A",
        "outputId": "30731e62-fc30-4261-987b-1b8dca1567b8"
      },
      "outputs": [
        {
          "output_type": "execute_result",
          "data": {
            "text/plain": [
              "array([[1.e+11, 2.e+11, 3.e+11],\n",
              "       [4.e+11, 5.e+11, 6.e+11]])"
            ]
          },
          "metadata": {},
          "execution_count": 392
        }
      ],
      "source": [
        "arr * 100000000000"
      ]
    },
    {
      "cell_type": "code",
      "execution_count": 393,
      "metadata": {
        "Collapsed": "false",
        "id": "sP0aNw4atm0B"
      },
      "outputs": [],
      "source": [
        "x=np.array([0.00001, 50000])"
      ]
    },
    {
      "cell_type": "code",
      "execution_count": 394,
      "metadata": {
        "Collapsed": "false",
        "colab": {
          "base_uri": "https://localhost:8080/"
        },
        "id": "v4Q0mfVxtm0B",
        "outputId": "255fb499-2df3-4bfc-b12a-76f589618604"
      },
      "outputs": [
        {
          "output_type": "execute_result",
          "data": {
            "text/plain": [
              "array([    0., 50000.])"
            ]
          },
          "metadata": {},
          "execution_count": 394
        }
      ],
      "source": [
        "x"
      ]
    },
    {
      "cell_type": "code",
      "execution_count": 395,
      "metadata": {
        "Collapsed": "false",
        "colab": {
          "base_uri": "https://localhost:8080/"
        },
        "id": "rYhrC3LJtm0B",
        "outputId": "14872765-a225-4ec2-bc9f-07f268e7b48a"
      },
      "outputs": [
        {
          "output_type": "execute_result",
          "data": {
            "text/plain": [
              "array([100000.,      0.])"
            ]
          },
          "metadata": {},
          "execution_count": 395
        }
      ],
      "source": [
        "1 / x"
      ]
    },
    {
      "cell_type": "code",
      "execution_count": 396,
      "metadata": {
        "Collapsed": "false",
        "id": "rN30BKgltm0B"
      },
      "outputs": [],
      "source": [
        "np.set_printoptions(precision=5, suppress=False)"
      ]
    },
    {
      "cell_type": "code",
      "execution_count": 397,
      "metadata": {
        "Collapsed": "false",
        "id": "oipe_E-xtm0B"
      },
      "outputs": [],
      "source": [
        "np.set_printoptions?"
      ]
    },
    {
      "cell_type": "markdown",
      "metadata": {
        "Collapsed": "false",
        "id": "pELkSvgUtm0B"
      },
      "source": [
        "suppress : bool, optional\n",
        "\n",
        "If True, always print floating point numbers using fixed point notation, in which case numbers equal to zero in the current precision will print as zero. If False, then scientific notation is used when absolute value of the smallest number is < 1e-4 or the ratio of the maximum absolute value to the minimum is > 1e3. The default is False."
      ]
    },
    {
      "cell_type": "code",
      "execution_count": 398,
      "metadata": {
        "Collapsed": "false",
        "colab": {
          "base_uri": "https://localhost:8080/"
        },
        "id": "OW4DMY8Ctm0B",
        "outputId": "70a1bdd2-33be-40d4-9df0-0a6fa4bdd400"
      },
      "outputs": [
        {
          "output_type": "execute_result",
          "data": {
            "text/plain": [
              "array([[1.00000e-05, 5.00000e-06, 3.33333e-06],\n",
              "       [2.50000e-06, 2.00000e-06, 1.66667e-06]])"
            ]
          },
          "metadata": {},
          "execution_count": 398
        }
      ],
      "source": [
        "1 / (arr * 100000)"
      ]
    },
    {
      "cell_type": "code",
      "execution_count": 399,
      "metadata": {
        "Collapsed": "false",
        "colab": {
          "base_uri": "https://localhost:8080/"
        },
        "id": "9N-6Mgf8tm0B",
        "outputId": "d41eae3d-a063-4f4b-9549-6ff09f181e03"
      },
      "outputs": [
        {
          "output_type": "execute_result",
          "data": {
            "text/plain": [
              "array([[1.e+11, 2.e+11, 3.e+11],\n",
              "       [4.e+11, 5.e+11, 6.e+11]])"
            ]
          },
          "metadata": {},
          "execution_count": 399
        }
      ],
      "source": [
        "arr * 100000000000"
      ]
    },
    {
      "cell_type": "code",
      "execution_count": 400,
      "metadata": {
        "Collapsed": "false",
        "id": "L568xNnUtm0B"
      },
      "outputs": [],
      "source": [
        "x=np.array([0.00001, 50000])"
      ]
    },
    {
      "cell_type": "code",
      "execution_count": 401,
      "metadata": {
        "Collapsed": "false",
        "colab": {
          "base_uri": "https://localhost:8080/"
        },
        "id": "IZY00upotm0B",
        "outputId": "f7f7337f-0d3a-4dfd-a0fb-8d1d6e48048a"
      },
      "outputs": [
        {
          "output_type": "execute_result",
          "data": {
            "text/plain": [
              "array([1.e-05, 5.e+04])"
            ]
          },
          "metadata": {},
          "execution_count": 401
        }
      ],
      "source": [
        "x"
      ]
    },
    {
      "cell_type": "code",
      "execution_count": 402,
      "metadata": {
        "Collapsed": "false",
        "colab": {
          "base_uri": "https://localhost:8080/"
        },
        "id": "-9nAq4Y1tm0B",
        "outputId": "d3284e3d-1890-48cc-908c-bc571b30fbd4"
      },
      "outputs": [
        {
          "output_type": "execute_result",
          "data": {
            "text/plain": [
              "array([1.e+05, 2.e-05])"
            ]
          },
          "metadata": {},
          "execution_count": 402
        }
      ],
      "source": [
        "1 / x"
      ]
    },
    {
      "cell_type": "code",
      "execution_count": 403,
      "metadata": {
        "Collapsed": "false",
        "id": "vK5a_U4ttm0B"
      },
      "outputs": [],
      "source": [
        "np.set_printoptions(precision=4, suppress=True)"
      ]
    },
    {
      "cell_type": "code",
      "execution_count": 404,
      "metadata": {
        "Collapsed": "false",
        "colab": {
          "base_uri": "https://localhost:8080/"
        },
        "id": "Q-CWdD70tm0C",
        "outputId": "489a102c-e2e7-404e-a356-2e2522bc688e"
      },
      "outputs": [
        {
          "output_type": "execute_result",
          "data": {
            "text/plain": [
              "array([[1.    , 1.4142, 1.7321],\n",
              "       [2.    , 2.2361, 2.4495]])"
            ]
          },
          "metadata": {},
          "execution_count": 404
        }
      ],
      "source": [
        "arr ** 0.5"
      ]
    },
    {
      "cell_type": "markdown",
      "metadata": {
        "Collapsed": "false",
        "id": "xKZ_Wq4wtm0C"
      },
      "source": [
        "Comparisons between arrays of the same size yield boolean arrays."
      ]
    },
    {
      "cell_type": "code",
      "execution_count": 405,
      "metadata": {
        "Collapsed": "false",
        "id": "i751QmTrtm0C"
      },
      "outputs": [],
      "source": [
        "arr1 =  np.array([1., 2., 3.])"
      ]
    },
    {
      "cell_type": "code",
      "execution_count": 406,
      "metadata": {
        "Collapsed": "false",
        "id": "FY561ASptm0C"
      },
      "outputs": [],
      "source": [
        "arr2 = np.array([0., 4., 1.])"
      ]
    },
    {
      "cell_type": "code",
      "execution_count": 407,
      "metadata": {
        "Collapsed": "false",
        "colab": {
          "base_uri": "https://localhost:8080/"
        },
        "id": "ao5An9KItm0C",
        "outputId": "2f0918ac-f906-4be2-de70-db53e208f2d7"
      },
      "outputs": [
        {
          "output_type": "execute_result",
          "data": {
            "text/plain": [
              "array([False,  True, False])"
            ]
          },
          "metadata": {},
          "execution_count": 407
        }
      ],
      "source": [
        "arr2 > arr1"
      ]
    },
    {
      "cell_type": "markdown",
      "metadata": {
        "Collapsed": "false",
        "id": "Tt2s8z49tm0C"
      },
      "source": [
        "Comparisons between arrays of the same size yield boolean arrays:\n"
      ]
    },
    {
      "cell_type": "code",
      "execution_count": 408,
      "metadata": {
        "Collapsed": "false",
        "id": "jTtXias6tm0C"
      },
      "outputs": [],
      "source": [
        "arr3 = np.array([[0., 4., 1.], [7., 2., 12.]])"
      ]
    },
    {
      "cell_type": "code",
      "execution_count": 409,
      "metadata": {
        "Collapsed": "false",
        "colab": {
          "base_uri": "https://localhost:8080/"
        },
        "id": "uaw_LzyWtm0C",
        "outputId": "fe9bcd67-df76-433c-e1d8-cec2fe55c41a"
      },
      "outputs": [
        {
          "output_type": "execute_result",
          "data": {
            "text/plain": [
              "array([[ 0.,  4.,  1.],\n",
              "       [ 7.,  2., 12.]])"
            ]
          },
          "metadata": {},
          "execution_count": 409
        }
      ],
      "source": [
        "arr3"
      ]
    },
    {
      "cell_type": "code",
      "execution_count": 410,
      "metadata": {
        "Collapsed": "false",
        "colab": {
          "base_uri": "https://localhost:8080/"
        },
        "id": "_J6oSyOHtm0C",
        "outputId": "e5f3e8a7-6e52-4148-db0e-933611c86775"
      },
      "outputs": [
        {
          "output_type": "execute_result",
          "data": {
            "text/plain": [
              "array([[False,  True, False],\n",
              "       [ True, False,  True]])"
            ]
          },
          "metadata": {},
          "execution_count": 410
        }
      ],
      "source": [
        "arr3 > test2"
      ]
    },
    {
      "cell_type": "markdown",
      "metadata": {
        "Collapsed": "false",
        "id": "V1YRd21stm0C"
      },
      "source": [
        "Operations between differently sized arrays is called <span style=\"color:red\"> **broadcasting** <span style=\"color:black\"> and will be discussed in more detail in Appendix A. "
      ]
    },
    {
      "cell_type": "markdown",
      "metadata": {
        "Collapsed": "false",
        "id": "rJWyPFyytm0C"
      },
      "source": [
        "### Basic Indexing and Slicing"
      ]
    },
    {
      "cell_type": "markdown",
      "metadata": {
        "Collapsed": "false",
        "id": "H09k1raetm0C"
      },
      "source": [
        "NumPy array indexing is a rich topic, as there are many ways you may want to select\n",
        "a subset of your data or individual elements. One-dimensional arrays are simple; on\n",
        "the surface they act similarly to Python lists:"
      ]
    },
    {
      "cell_type": "code",
      "execution_count": 411,
      "metadata": {
        "Collapsed": "false",
        "id": "0bxNPZZTtm0D"
      },
      "outputs": [],
      "source": [
        "arr = np.arange(10)"
      ]
    },
    {
      "cell_type": "code",
      "execution_count": 412,
      "metadata": {
        "Collapsed": "false",
        "colab": {
          "base_uri": "https://localhost:8080/"
        },
        "id": "0-Y1NNIEtm0D",
        "outputId": "45c7589e-fc7c-469b-9f82-a410d45d4597"
      },
      "outputs": [
        {
          "output_type": "execute_result",
          "data": {
            "text/plain": [
              "array([0, 1, 2, 3, 4, 5, 6, 7, 8, 9])"
            ]
          },
          "metadata": {},
          "execution_count": 412
        }
      ],
      "source": [
        "arr"
      ]
    },
    {
      "cell_type": "code",
      "execution_count": 413,
      "metadata": {
        "Collapsed": "false",
        "colab": {
          "base_uri": "https://localhost:8080/"
        },
        "id": "xPdHl2Rltm0D",
        "outputId": "48e74d49-7587-467f-f936-e29c1363b690"
      },
      "outputs": [
        {
          "output_type": "execute_result",
          "data": {
            "text/plain": [
              "5"
            ]
          },
          "metadata": {},
          "execution_count": 413
        }
      ],
      "source": [
        "arr[5]"
      ]
    },
    {
      "cell_type": "code",
      "execution_count": 414,
      "metadata": {
        "Collapsed": "false",
        "colab": {
          "base_uri": "https://localhost:8080/"
        },
        "id": "9oCxWntetm0D",
        "outputId": "2eb429fb-d8b5-4c81-9f06-e472702cd85f"
      },
      "outputs": [
        {
          "output_type": "execute_result",
          "data": {
            "text/plain": [
              "array([5, 6, 7])"
            ]
          },
          "metadata": {},
          "execution_count": 414
        }
      ],
      "source": [
        "arr[5:8]"
      ]
    },
    {
      "cell_type": "code",
      "execution_count": 415,
      "metadata": {
        "Collapsed": "false",
        "id": "04Y36TB-tm0D"
      },
      "outputs": [],
      "source": [
        "arr[5:8] = 12"
      ]
    },
    {
      "cell_type": "code",
      "execution_count": 416,
      "metadata": {
        "Collapsed": "false",
        "colab": {
          "base_uri": "https://localhost:8080/"
        },
        "id": "4GrTwNYXtm0D",
        "outputId": "16fb7911-0c8d-43ca-f641-6b000e535447"
      },
      "outputs": [
        {
          "output_type": "execute_result",
          "data": {
            "text/plain": [
              "array([ 0,  1,  2,  3,  4, 12, 12, 12,  8,  9])"
            ]
          },
          "metadata": {},
          "execution_count": 416
        }
      ],
      "source": [
        "arr"
      ]
    },
    {
      "cell_type": "markdown",
      "metadata": {
        "Collapsed": "false",
        "id": "5EmnTuJvtm0D"
      },
      "source": [
        "##### python list"
      ]
    },
    {
      "cell_type": "code",
      "execution_count": 417,
      "metadata": {
        "Collapsed": "false",
        "colab": {
          "base_uri": "https://localhost:8080/"
        },
        "id": "pLGCkg7jtm0D",
        "outputId": "ecbe7bc3-6895-449e-a9ad-de615ec1138f"
      },
      "outputs": [
        {
          "output_type": "execute_result",
          "data": {
            "text/plain": [
              "[0, 1, 2, 3, 4, 5, 6, 7, 8, 9]"
            ]
          },
          "metadata": {},
          "execution_count": 417
        }
      ],
      "source": [
        "x=list(range(10))\n",
        "x"
      ]
    },
    {
      "cell_type": "code",
      "execution_count": 418,
      "metadata": {
        "Collapsed": "false",
        "id": "d2rMND8Vtm0D"
      },
      "outputs": [],
      "source": [
        "x[5:8]=[12,12,12]"
      ]
    },
    {
      "cell_type": "code",
      "execution_count": 419,
      "metadata": {
        "Collapsed": "false",
        "id": "rCSCCYvatm0D"
      },
      "outputs": [],
      "source": [
        "x[5:8]=[12,12,12]"
      ]
    },
    {
      "cell_type": "markdown",
      "metadata": {
        "Collapsed": "false",
        "id": "zZ7mmRXQtm0D"
      },
      "source": [
        "In numpy, as you can see, if you assign a scalar value to a slice, as in arr[5:8] = 12, the value is propagated (or *broadcasted* henceforth) to the entire selection. <br><br>"
      ]
    },
    {
      "cell_type": "markdown",
      "metadata": {
        "Collapsed": "false",
        "id": "8WGJOIqrtm0D"
      },
      "source": [
        "<br><br><br>"
      ]
    },
    {
      "cell_type": "markdown",
      "metadata": {
        "Collapsed": "false",
        "id": "7VXzjdA0tm0E"
      },
      "source": [
        "<span style=\"color:red\">An important first distinction from Python’s built-in lists is that array slices are *views* on the original array.   \n",
        "This means that the data is not copied, and any modifications to the view will be reflected in the source array. "
      ]
    },
    {
      "cell_type": "code",
      "execution_count": 420,
      "metadata": {
        "Collapsed": "false",
        "id": "3dGvmHURtm0E"
      },
      "outputs": [],
      "source": [
        "arr = np.arange(10)\n"
      ]
    },
    {
      "cell_type": "code",
      "execution_count": 421,
      "metadata": {
        "Collapsed": "false",
        "id": "3uxHDLHztm0E"
      },
      "outputs": [],
      "source": [
        "# arr_slice = arr[5:8].copy()   깊은 복사 \n",
        "# arr_slice = arr[5:8]          얕은 복사 ( address )\n",
        "arr_slice = arr[5:8]"
      ]
    },
    {
      "cell_type": "code",
      "execution_count": 422,
      "metadata": {
        "Collapsed": "false",
        "colab": {
          "base_uri": "https://localhost:8080/"
        },
        "id": "2J5dc1CItm0E",
        "outputId": "5d2a750c-c8a3-4281-d904-4a4f2d349555"
      },
      "outputs": [
        {
          "output_type": "execute_result",
          "data": {
            "text/plain": [
              "array([5, 6, 7])"
            ]
          },
          "metadata": {},
          "execution_count": 422
        }
      ],
      "source": [
        "arr_slice"
      ]
    },
    {
      "cell_type": "code",
      "execution_count": 423,
      "metadata": {
        "Collapsed": "false",
        "id": "v6tsPjZdtm0E"
      },
      "outputs": [],
      "source": [
        "arr_slice[1] = 12345"
      ]
    },
    {
      "cell_type": "code",
      "execution_count": 424,
      "metadata": {
        "Collapsed": "false",
        "colab": {
          "base_uri": "https://localhost:8080/"
        },
        "id": "ORZiOgrvtm0E",
        "outputId": "f86f0dc7-ce05-4a88-e1b7-ff9a0195e56e"
      },
      "outputs": [
        {
          "output_type": "execute_result",
          "data": {
            "text/plain": [
              "array([    0,     1,     2,     3,     4,     5, 12345,     7,     8,\n",
              "           9])"
            ]
          },
          "metadata": {},
          "execution_count": 424
        }
      ],
      "source": [
        "arr"
      ]
    },
    {
      "cell_type": "code",
      "execution_count": 425,
      "metadata": {
        "Collapsed": "false",
        "id": "PPvuaPsytm0E"
      },
      "outputs": [],
      "source": [
        "arr_slice[:] = 64"
      ]
    },
    {
      "cell_type": "code",
      "execution_count": 426,
      "metadata": {
        "Collapsed": "false",
        "colab": {
          "base_uri": "https://localhost:8080/"
        },
        "id": "n_al5yintm0E",
        "outputId": "cb89f476-9a3a-4601-a1e9-40730b213b77"
      },
      "outputs": [
        {
          "output_type": "execute_result",
          "data": {
            "text/plain": [
              "array([ 0,  1,  2,  3,  4, 64, 64, 64,  8,  9])"
            ]
          },
          "metadata": {},
          "execution_count": 426
        }
      ],
      "source": [
        "arr"
      ]
    },
    {
      "cell_type": "markdown",
      "metadata": {
        "Collapsed": "false",
        "id": "Xzzk5ymXtm0E"
      },
      "source": [
        "<img style=\"float: left;\" src=\"pic/pic_0_1.png\">"
      ]
    },
    {
      "cell_type": "markdown",
      "metadata": {
        "Collapsed": "false",
        "id": "PkXJqNYjtm0E"
      },
      "source": [
        "<span style=\"color:red\">If you want a copy of a slice of an ndarray instead of a view, you will need to explicitly copy the array—for example, arr[5:8].copy().\n",
        " "
      ]
    },
    {
      "cell_type": "markdown",
      "metadata": {
        "Collapsed": "false",
        "id": "6T9MID0Otm0E"
      },
      "source": [
        "With higher dimensional arrays, you have many more options.  \n",
        "In a two-dimensional array, the elements at each index are no longer scalars but rather one-dimensional arrays:\n"
      ]
    },
    {
      "cell_type": "code",
      "execution_count": 427,
      "metadata": {
        "Collapsed": "false",
        "id": "143w3xDFtm0F"
      },
      "outputs": [],
      "source": [
        "arr2d = np.array([[1, 2, 3], [4, 5, 6], [7, 8, 9]])"
      ]
    },
    {
      "cell_type": "code",
      "execution_count": 428,
      "metadata": {
        "Collapsed": "false",
        "colab": {
          "base_uri": "https://localhost:8080/"
        },
        "id": "k9fppzFxtm0F",
        "outputId": "4a3c18da-d9a5-4301-9137-bdb903eae2af"
      },
      "outputs": [
        {
          "output_type": "execute_result",
          "data": {
            "text/plain": [
              "array([[1, 2, 3],\n",
              "       [4, 5, 6],\n",
              "       [7, 8, 9]])"
            ]
          },
          "metadata": {},
          "execution_count": 428
        }
      ],
      "source": [
        "arr2d"
      ]
    },
    {
      "cell_type": "code",
      "execution_count": 429,
      "metadata": {
        "Collapsed": "false",
        "colab": {
          "base_uri": "https://localhost:8080/"
        },
        "id": "K8CMrIpJtm0F",
        "outputId": "bb583455-df9c-4109-f589-e26b9e863444"
      },
      "outputs": [
        {
          "output_type": "execute_result",
          "data": {
            "text/plain": [
              "array([7, 8, 9])"
            ]
          },
          "metadata": {},
          "execution_count": 429
        }
      ],
      "source": [
        "arr2d[2]"
      ]
    },
    {
      "cell_type": "markdown",
      "metadata": {
        "Collapsed": "false",
        "id": "8dWDKr7Ftm0F"
      },
      "source": [
        "Thus, individual elements can be accessed recursively. But that is a bit too much\n",
        "work, so you can pass a comma-separated list of indices to select individual elements.\n",
        "So these are equivalent:\n"
      ]
    },
    {
      "cell_type": "code",
      "execution_count": 430,
      "metadata": {
        "Collapsed": "false",
        "colab": {
          "base_uri": "https://localhost:8080/"
        },
        "id": "xV97_0AStm0F",
        "outputId": "279e1b50-995c-435a-fff9-e39c5f36e048"
      },
      "outputs": [
        {
          "output_type": "execute_result",
          "data": {
            "text/plain": [
              "3"
            ]
          },
          "metadata": {},
          "execution_count": 430
        }
      ],
      "source": [
        "arr2d[0][2]"
      ]
    },
    {
      "cell_type": "code",
      "execution_count": 431,
      "metadata": {
        "Collapsed": "false",
        "colab": {
          "base_uri": "https://localhost:8080/"
        },
        "id": "p3oknxwMtm0F",
        "outputId": "9d0fcab4-09c7-408a-a612-204521a2b7f4"
      },
      "outputs": [
        {
          "output_type": "execute_result",
          "data": {
            "text/plain": [
              "3"
            ]
          },
          "metadata": {},
          "execution_count": 431
        }
      ],
      "source": [
        "arr2d[0, 2]"
      ]
    },
    {
      "cell_type": "markdown",
      "metadata": {
        "Collapsed": "false",
        "id": "KWy-L055tm0F"
      },
      "source": [
        "See Figure 4-1 for an illustration of indexing on a two-dimensional array. I find it\n",
        "helpful to think of axis 0 as the “rows” of the array and axis 1 as the “columns.”\n"
      ]
    },
    {
      "cell_type": "markdown",
      "metadata": {
        "Collapsed": "false",
        "id": "rKyDxcMXtm0F"
      },
      "source": [
        "<img style=\"float: left;\" src=\"pic/pic_4_3.png\" width=\"700\">"
      ]
    },
    {
      "cell_type": "markdown",
      "metadata": {
        "Collapsed": "false",
        "id": "v8Q_ooc4tm0F"
      },
      "source": [
        "In multidimensional arrays, if you omit later indices, the returned object will be a\n",
        "lower dimensional ndarray consisting of all the data along the higher dimensions. So\n",
        "in the 2 × 2 × 3 array arr3d:"
      ]
    },
    {
      "cell_type": "code",
      "execution_count": 432,
      "metadata": {
        "Collapsed": "false",
        "colab": {
          "base_uri": "https://localhost:8080/"
        },
        "id": "H8Wlo3cOtm0F",
        "outputId": "77216b00-0ce7-4b4e-f79f-c6f0177896eb"
      },
      "outputs": [
        {
          "output_type": "execute_result",
          "data": {
            "text/plain": [
              "array([[[ 1,  2,  3],\n",
              "        [ 4,  5,  6]],\n",
              "\n",
              "       [[ 7,  8,  9],\n",
              "        [10, 11, 12]]])"
            ]
          },
          "metadata": {},
          "execution_count": 432
        }
      ],
      "source": [
        "arr3d = np.array([[[1, 2, 3], [4, 5, 6]], [[7, 8, 9], [10, 11, 12]]])\n",
        "arr3d"
      ]
    },
    {
      "cell_type": "markdown",
      "metadata": {
        "Collapsed": "false",
        "id": "P49AZzQXtm0F"
      },
      "source": [
        "arr3d[0] is a 2 × 3 array:"
      ]
    },
    {
      "cell_type": "code",
      "execution_count": 433,
      "metadata": {
        "Collapsed": "false",
        "colab": {
          "base_uri": "https://localhost:8080/"
        },
        "id": "AM3D7t5gtm0F",
        "outputId": "0ab8d234-eae3-4350-e423-1fcffaaac65b"
      },
      "outputs": [
        {
          "output_type": "execute_result",
          "data": {
            "text/plain": [
              "array([[1, 2, 3],\n",
              "       [4, 5, 6]])"
            ]
          },
          "metadata": {},
          "execution_count": 433
        }
      ],
      "source": [
        "arr3d[0]"
      ]
    },
    {
      "cell_type": "markdown",
      "metadata": {
        "Collapsed": "false",
        "id": "VEuwpr0Ztm0H"
      },
      "source": [
        "Both scalar values and arrays can be assigned to arr3d[0]:"
      ]
    },
    {
      "cell_type": "code",
      "execution_count": 434,
      "metadata": {
        "Collapsed": "false",
        "id": "bgtpthCAtm0I"
      },
      "outputs": [],
      "source": [
        "old_values = arr3d[0].copy()"
      ]
    },
    {
      "cell_type": "code",
      "execution_count": 435,
      "metadata": {
        "Collapsed": "false",
        "colab": {
          "base_uri": "https://localhost:8080/"
        },
        "id": "PmUZ8tRqtm0I",
        "outputId": "5da79e8f-9e50-4645-8611-6016847c438a"
      },
      "outputs": [
        {
          "output_type": "execute_result",
          "data": {
            "text/plain": [
              "array([[[42, 42, 42],\n",
              "        [42, 42, 42]],\n",
              "\n",
              "       [[ 7,  8,  9],\n",
              "        [10, 11, 12]]])"
            ]
          },
          "metadata": {},
          "execution_count": 435
        }
      ],
      "source": [
        "arr3d[0] = 42\n",
        "arr3d"
      ]
    },
    {
      "cell_type": "code",
      "execution_count": 436,
      "metadata": {
        "Collapsed": "false",
        "colab": {
          "base_uri": "https://localhost:8080/"
        },
        "id": "S8WgS42qtm0I",
        "outputId": "72e4b3f2-bdc4-4b8e-fd2c-1be5dd689c84"
      },
      "outputs": [
        {
          "output_type": "execute_result",
          "data": {
            "text/plain": [
              "array([[[ 1,  2,  3],\n",
              "        [ 4,  5,  6]],\n",
              "\n",
              "       [[ 7,  8,  9],\n",
              "        [10, 11, 12]]])"
            ]
          },
          "metadata": {},
          "execution_count": 436
        }
      ],
      "source": [
        "arr3d[0] = old_values\n",
        "arr3d"
      ]
    },
    {
      "cell_type": "markdown",
      "metadata": {
        "Collapsed": "false",
        "id": "ZhuYBwtWtm0I"
      },
      "source": [
        "Similarly, arr3d[1, 0] gives you all of the values whose indices start with (1, 0),\n",
        "forming a 1-dimensional array:"
      ]
    },
    {
      "cell_type": "code",
      "execution_count": 437,
      "metadata": {
        "Collapsed": "false",
        "colab": {
          "base_uri": "https://localhost:8080/"
        },
        "id": "gQ0PDRpstm0I",
        "outputId": "e1cfe70d-26b0-4fec-92ab-fc7fd3a2adc3"
      },
      "outputs": [
        {
          "output_type": "execute_result",
          "data": {
            "text/plain": [
              "array([7, 8, 9])"
            ]
          },
          "metadata": {},
          "execution_count": 437
        }
      ],
      "source": [
        "arr3d[1, 0]"
      ]
    },
    {
      "cell_type": "markdown",
      "metadata": {
        "Collapsed": "false",
        "id": "k9uBTQ-btm0I"
      },
      "source": [
        "This expression is the same as though we had indexed in two steps:"
      ]
    },
    {
      "cell_type": "code",
      "execution_count": 438,
      "metadata": {
        "Collapsed": "false",
        "id": "y_RggYF-tm0I"
      },
      "outputs": [],
      "source": [
        "x = arr3d[1]"
      ]
    },
    {
      "cell_type": "code",
      "execution_count": 439,
      "metadata": {
        "Collapsed": "false",
        "colab": {
          "base_uri": "https://localhost:8080/"
        },
        "id": "IB5_Kpshtm0I",
        "outputId": "0b855040-2c4b-458a-cfe3-2a58420e2f35"
      },
      "outputs": [
        {
          "output_type": "execute_result",
          "data": {
            "text/plain": [
              "array([[ 7,  8,  9],\n",
              "       [10, 11, 12]])"
            ]
          },
          "metadata": {},
          "execution_count": 439
        }
      ],
      "source": [
        "x"
      ]
    },
    {
      "cell_type": "code",
      "execution_count": 440,
      "metadata": {
        "Collapsed": "false",
        "colab": {
          "base_uri": "https://localhost:8080/"
        },
        "id": "0zMqOW97tm0I",
        "outputId": "39636553-61fa-4ac6-d8aa-89cc90f62bd0"
      },
      "outputs": [
        {
          "output_type": "execute_result",
          "data": {
            "text/plain": [
              "array([7, 8, 9])"
            ]
          },
          "metadata": {},
          "execution_count": 440
        }
      ],
      "source": [
        "x[0]"
      ]
    },
    {
      "cell_type": "markdown",
      "metadata": {
        "Collapsed": "false",
        "id": "x29VRn5Ztm0I"
      },
      "source": [
        "#### Indexing with slices"
      ]
    },
    {
      "cell_type": "markdown",
      "metadata": {
        "Collapsed": "false",
        "id": "r0MdxtYqtm0J"
      },
      "source": [
        "Like one-dimensional objects such as Python lists, ndarrays can be sliced with the\n",
        "familiar syntax:"
      ]
    },
    {
      "cell_type": "code",
      "execution_count": 441,
      "metadata": {
        "Collapsed": "false",
        "colab": {
          "base_uri": "https://localhost:8080/"
        },
        "id": "pHqf7Xv3tm0J",
        "outputId": "7917aeae-30f6-4c96-ba31-4ff55dfabc44"
      },
      "outputs": [
        {
          "output_type": "execute_result",
          "data": {
            "text/plain": [
              "array([ 0,  1,  2,  3,  4, 64, 64, 64,  8,  9])"
            ]
          },
          "metadata": {},
          "execution_count": 441
        }
      ],
      "source": [
        "arr"
      ]
    },
    {
      "cell_type": "code",
      "execution_count": 442,
      "metadata": {
        "Collapsed": "false",
        "colab": {
          "base_uri": "https://localhost:8080/"
        },
        "id": "ibX9-rs3tm0J",
        "outputId": "aa57bef0-1543-4573-a477-3f551d008481"
      },
      "outputs": [
        {
          "output_type": "execute_result",
          "data": {
            "text/plain": [
              "array([ 1,  2,  3,  4, 64])"
            ]
          },
          "metadata": {},
          "execution_count": 442
        }
      ],
      "source": [
        "arr[1:6]"
      ]
    },
    {
      "cell_type": "markdown",
      "metadata": {
        "Collapsed": "false",
        "id": "Qw4epUqFtm0J"
      },
      "source": [
        "Consider the two-dimensional array from before, arr2d. Slicing this array is a bit\n",
        "different:\n"
      ]
    },
    {
      "cell_type": "code",
      "execution_count": 443,
      "metadata": {
        "Collapsed": "false",
        "colab": {
          "base_uri": "https://localhost:8080/"
        },
        "id": "84gnN9vrtm0J",
        "outputId": "3d9a3d09-53ab-4f3d-fcaf-ee8125425dbc"
      },
      "outputs": [
        {
          "output_type": "execute_result",
          "data": {
            "text/plain": [
              "array([[1, 2, 3],\n",
              "       [4, 5, 6],\n",
              "       [7, 8, 9]])"
            ]
          },
          "metadata": {},
          "execution_count": 443
        }
      ],
      "source": [
        "arr2d"
      ]
    },
    {
      "cell_type": "code",
      "execution_count": 444,
      "metadata": {
        "Collapsed": "false",
        "colab": {
          "base_uri": "https://localhost:8080/"
        },
        "id": "wWliRVtttm0J",
        "outputId": "419b036a-801b-4f86-cb41-d97700dd1946"
      },
      "outputs": [
        {
          "output_type": "execute_result",
          "data": {
            "text/plain": [
              "array([[1, 2, 3],\n",
              "       [4, 5, 6]])"
            ]
          },
          "metadata": {},
          "execution_count": 444
        }
      ],
      "source": [
        "arr2d[:2]"
      ]
    },
    {
      "cell_type": "markdown",
      "metadata": {
        "Collapsed": "false",
        "id": "bEzTII5mtm0J"
      },
      "source": [
        "As you can see, it has sliced along axis 0, the first axis. A slice, therefore, selects a\n",
        "range of elements along an axis. It can be helpful to read the expression arr2d[:2] as\n",
        "“select the first two rows of arr2d.”\n",
        "\n",
        "You can pass multiple slices just like you can pass multiple indexes:"
      ]
    },
    {
      "cell_type": "code",
      "execution_count": 445,
      "metadata": {
        "Collapsed": "false",
        "colab": {
          "base_uri": "https://localhost:8080/"
        },
        "id": "qvgxRy3Otm0J",
        "outputId": "045d252f-3cee-4de3-ab23-8198100bd008"
      },
      "outputs": [
        {
          "output_type": "execute_result",
          "data": {
            "text/plain": [
              "array([[2, 3],\n",
              "       [5, 6]])"
            ]
          },
          "metadata": {},
          "execution_count": 445
        }
      ],
      "source": [
        "arr2d[:2, 1:]"
      ]
    },
    {
      "cell_type": "markdown",
      "metadata": {
        "Collapsed": "false",
        "id": "1PDSGLf2tm0J"
      },
      "source": [
        "When slicing like this, you always obtain array views of the same number of dimensions. By mixing integer indexes and slices, you get lower dimensional slices.\n",
        "\n",
        "For example, I can select the second row but only the first two columns like so:\n"
      ]
    },
    {
      "cell_type": "code",
      "execution_count": 446,
      "metadata": {
        "Collapsed": "false",
        "colab": {
          "base_uri": "https://localhost:8080/"
        },
        "id": "dXyvJ2i_tm0J",
        "outputId": "804c9898-42c4-4b50-9aa3-66ae1fac7958"
      },
      "outputs": [
        {
          "output_type": "execute_result",
          "data": {
            "text/plain": [
              "array([4, 5])"
            ]
          },
          "metadata": {},
          "execution_count": 446
        }
      ],
      "source": [
        "arr2d[1, :2]"
      ]
    },
    {
      "cell_type": "markdown",
      "metadata": {
        "Collapsed": "false",
        "id": "3VckZ7zXtm0J"
      },
      "source": [
        "Similarly, I can select the third column but only the first two rows like so:"
      ]
    },
    {
      "cell_type": "code",
      "execution_count": 447,
      "metadata": {
        "Collapsed": "false",
        "colab": {
          "base_uri": "https://localhost:8080/"
        },
        "id": "EwV8-z5Etm0J",
        "outputId": "d1ace8c4-b1fc-4cc0-ea40-8403cb404309"
      },
      "outputs": [
        {
          "output_type": "execute_result",
          "data": {
            "text/plain": [
              "array([3, 6])"
            ]
          },
          "metadata": {},
          "execution_count": 447
        }
      ],
      "source": [
        "arr2d[:2, 2]"
      ]
    },
    {
      "cell_type": "markdown",
      "metadata": {
        "Collapsed": "false",
        "id": "3eGZAI3otm0K"
      },
      "source": [
        "See Figure 4-2 for an illustration. Note that a colon by itself means to take the entire\n",
        "axis, so you can slice only higher dimensional axes by doing:\n"
      ]
    },
    {
      "cell_type": "code",
      "execution_count": 448,
      "metadata": {
        "Collapsed": "false",
        "colab": {
          "base_uri": "https://localhost:8080/"
        },
        "id": "BhCD58R8tm0K",
        "outputId": "e63a2fa0-f478-411f-ce1a-c96982f50423"
      },
      "outputs": [
        {
          "output_type": "execute_result",
          "data": {
            "text/plain": [
              "array([[1],\n",
              "       [4],\n",
              "       [7]])"
            ]
          },
          "metadata": {},
          "execution_count": 448
        }
      ],
      "source": [
        "arr2d[:, :1]"
      ]
    },
    {
      "cell_type": "markdown",
      "metadata": {
        "Collapsed": "false",
        "id": "b1nItf10tm0K"
      },
      "source": [
        "Of course, assigning to a slice expression assigns to the whole selection:"
      ]
    },
    {
      "cell_type": "code",
      "execution_count": 449,
      "metadata": {
        "Collapsed": "false",
        "colab": {
          "base_uri": "https://localhost:8080/"
        },
        "id": "K4CqyTlqtm0K",
        "outputId": "e17a4d84-1ee0-4e93-b3f8-2d4c56db47e5"
      },
      "outputs": [
        {
          "output_type": "execute_result",
          "data": {
            "text/plain": [
              "array([[1, 0, 0],\n",
              "       [4, 0, 0],\n",
              "       [7, 8, 9]])"
            ]
          },
          "metadata": {},
          "execution_count": 449
        }
      ],
      "source": [
        "arr2d[:2, 1:] = 0\n",
        "arr2d"
      ]
    },
    {
      "cell_type": "markdown",
      "metadata": {
        "Collapsed": "false",
        "id": "JQ8diKWTtm0K"
      },
      "source": [
        "<img style=\"float: left;\" src=\"pic/pic_4_4.png\" width=\"700\">"
      ]
    },
    {
      "cell_type": "code",
      "execution_count": 450,
      "metadata": {
        "Collapsed": "false",
        "colab": {
          "base_uri": "https://localhost:8080/"
        },
        "id": "ExpyHv4Jtm0K",
        "outputId": "542ac10b-1b31-42a5-9f1d-ce7510a2c68d"
      },
      "outputs": [
        {
          "output_type": "execute_result",
          "data": {
            "text/plain": [
              "array([[1, 0, 0],\n",
              "       [4, 0, 0],\n",
              "       [7, 8, 9]])"
            ]
          },
          "metadata": {},
          "execution_count": 450
        }
      ],
      "source": [
        "arr2d"
      ]
    },
    {
      "cell_type": "code",
      "execution_count": 451,
      "metadata": {
        "Collapsed": "false",
        "colab": {
          "base_uri": "https://localhost:8080/"
        },
        "id": "2CDJa8N6tm0K",
        "outputId": "0e761202-1970-490c-f82c-8f0e1a6ccb0c"
      },
      "outputs": [
        {
          "output_type": "execute_result",
          "data": {
            "text/plain": [
              "array([7, 8, 9])"
            ]
          },
          "metadata": {},
          "execution_count": 451
        }
      ],
      "source": [
        "arr2d[2]"
      ]
    },
    {
      "cell_type": "code",
      "execution_count": 452,
      "metadata": {
        "Collapsed": "false",
        "colab": {
          "base_uri": "https://localhost:8080/"
        },
        "id": "WIT7WUoxtm0K",
        "outputId": "99c6efc6-e7c3-4d59-81e9-7e3e5def404c"
      },
      "outputs": [
        {
          "output_type": "execute_result",
          "data": {
            "text/plain": [
              "array([[4, 0, 0],\n",
              "       [7, 8, 9]])"
            ]
          },
          "metadata": {},
          "execution_count": 452
        }
      ],
      "source": [
        "arr2d[1:]"
      ]
    },
    {
      "cell_type": "code",
      "execution_count": 453,
      "metadata": {
        "Collapsed": "false",
        "colab": {
          "base_uri": "https://localhost:8080/"
        },
        "id": "rmXpfJ9ptm0K",
        "outputId": "5402024c-e8ef-4653-f1ed-580fd58eda59"
      },
      "outputs": [
        {
          "output_type": "execute_result",
          "data": {
            "text/plain": [
              "array([7, 8, 9])"
            ]
          },
          "metadata": {},
          "execution_count": 453
        }
      ],
      "source": [
        "arr2d[2,:]"
      ]
    },
    {
      "cell_type": "code",
      "execution_count": 454,
      "metadata": {
        "Collapsed": "false",
        "colab": {
          "base_uri": "https://localhost:8080/"
        },
        "id": "8ttpTbJJtm0K",
        "outputId": "6e3f07ce-e7f6-4bb4-83e8-c37c442ad645"
      },
      "outputs": [
        {
          "output_type": "execute_result",
          "data": {
            "text/plain": [
              "9"
            ]
          },
          "metadata": {},
          "execution_count": 454
        }
      ],
      "source": [
        "arr2d[2,2]"
      ]
    },
    {
      "cell_type": "code",
      "execution_count": 455,
      "metadata": {
        "Collapsed": "false",
        "colab": {
          "base_uri": "https://localhost:8080/"
        },
        "id": "t96lOjq0tm0K",
        "outputId": "fd39a289-5cd7-448e-e179-6c3bcfdef2a6"
      },
      "outputs": [
        {
          "output_type": "execute_result",
          "data": {
            "text/plain": [
              "array([[7, 8, 9]])"
            ]
          },
          "metadata": {},
          "execution_count": 455
        }
      ],
      "source": [
        "arr2d[2:,:]"
      ]
    },
    {
      "cell_type": "markdown",
      "metadata": {
        "Collapsed": "false",
        "id": "DPQyTMIytm0K"
      },
      "source": [
        "<pre>\n",
        "expression의 법칙  \n",
        "original: 2 dim array  - - - > 최소 1 dim, 생략은 slice 1로 가정\n",
        "    \n",
        "slicing expression     resulting shape dim\n",
        "no index   no slice         2 dim\n",
        "1  index   no slice         1 dim\n",
        "no index    1 slice         2 dim\n",
        "1  index    1 slice         1 dim\n",
        "2  index   no slice         not array\n",
        "no index    2 slice         2 dim"
      ]
    },
    {
      "cell_type": "markdown",
      "metadata": {
        "Collapsed": "false",
        "id": "5TLWE5actm0K"
      },
      "source": [
        "### Boolean Indexing"
      ]
    },
    {
      "cell_type": "markdown",
      "metadata": {
        "Collapsed": "false",
        "id": "gB0Wueh-tm0K"
      },
      "source": [
        "Let’s consider an example where we have some data in an array and an array of names\n",
        "with duplicates. I’m going to use here the randn function in numpy.random to generate\n",
        "some random normally distributed data:"
      ]
    },
    {
      "cell_type": "code",
      "execution_count": 456,
      "metadata": {
        "Collapsed": "false",
        "id": "xBwYSlGytm0L"
      },
      "outputs": [],
      "source": [
        "names = np.array(['Bob', 'Joe', 'Will', 'Bob', 'Will', 'Joe', 'Joe'])"
      ]
    },
    {
      "cell_type": "code",
      "execution_count": 457,
      "metadata": {
        "Collapsed": "false",
        "id": "G9dsgOojtm0L"
      },
      "outputs": [],
      "source": [
        "data = np.random.randn(7, 4)"
      ]
    },
    {
      "cell_type": "code",
      "execution_count": 458,
      "metadata": {
        "Collapsed": "false",
        "colab": {
          "base_uri": "https://localhost:8080/"
        },
        "id": "ctDF9T46tm0L",
        "outputId": "cf6614fd-4731-4470-efb6-dfd06151bcfe"
      },
      "outputs": [
        {
          "output_type": "execute_result",
          "data": {
            "text/plain": [
              "array(['Bob', 'Joe', 'Will', 'Bob', 'Will', 'Joe', 'Joe'], dtype='<U4')"
            ]
          },
          "metadata": {},
          "execution_count": 458
        }
      ],
      "source": [
        "names"
      ]
    },
    {
      "cell_type": "code",
      "execution_count": 459,
      "metadata": {
        "Collapsed": "false",
        "colab": {
          "base_uri": "https://localhost:8080/"
        },
        "id": "t9jyoaV-tm0L",
        "outputId": "6428bffc-2835-42f8-9edc-4ea736b03c36"
      },
      "outputs": [
        {
          "output_type": "execute_result",
          "data": {
            "text/plain": [
              "array([[ 0.0929,  0.2817,  0.769 ,  1.2464],\n",
              "       [ 1.0072, -1.2962,  0.275 ,  0.2289],\n",
              "       [ 1.3529,  0.8864, -2.0016, -0.3718],\n",
              "       [ 1.669 , -0.4386, -0.5397,  0.477 ],\n",
              "       [ 3.2489, -1.0212, -0.5771,  0.1241],\n",
              "       [ 0.3026,  0.5238,  0.0009,  1.3438],\n",
              "       [-0.7135, -0.8312, -2.3702, -1.8608]])"
            ]
          },
          "metadata": {},
          "execution_count": 459
        }
      ],
      "source": [
        "data"
      ]
    },
    {
      "cell_type": "markdown",
      "metadata": {
        "Collapsed": "false",
        "id": "E2w2jVWxtm0L"
      },
      "source": [
        "Suppose each name corresponds to a row in the data array and we wanted to select all the rows with corresponding name 'Bob'.  \n",
        "Like arithmetic operations, comparisons (such as ==) with arrays are also **vectorized**.   \n",
        "Thus, comparing names with the string 'Bob' yields a boolean array"
      ]
    },
    {
      "cell_type": "code",
      "execution_count": 460,
      "metadata": {
        "Collapsed": "false",
        "colab": {
          "base_uri": "https://localhost:8080/"
        },
        "id": "s4QDqPJ8tm0L",
        "outputId": "3f75034f-6fda-46e5-b743-fd0ac8af6203"
      },
      "outputs": [
        {
          "output_type": "execute_result",
          "data": {
            "text/plain": [
              "array([ True, False, False,  True, False, False, False])"
            ]
          },
          "metadata": {},
          "execution_count": 460
        }
      ],
      "source": [
        "names == 'Bob'"
      ]
    },
    {
      "cell_type": "markdown",
      "metadata": {
        "Collapsed": "false",
        "id": "rXQVyn4atm0L"
      },
      "source": [
        "This boolean array can be passed when indexing the array:"
      ]
    },
    {
      "cell_type": "code",
      "execution_count": 461,
      "metadata": {
        "Collapsed": "false",
        "colab": {
          "base_uri": "https://localhost:8080/"
        },
        "id": "-8ap56A0tm0L",
        "outputId": "08b57f00-55d8-457c-d1db-5a655ea33d81"
      },
      "outputs": [
        {
          "output_type": "execute_result",
          "data": {
            "text/plain": [
              "array([[ 0.0929,  0.2817,  0.769 ,  1.2464],\n",
              "       [ 1.669 , -0.4386, -0.5397,  0.477 ]])"
            ]
          },
          "metadata": {},
          "execution_count": 461
        }
      ],
      "source": [
        "data[names == 'Bob']"
      ]
    },
    {
      "cell_type": "markdown",
      "metadata": {
        "Collapsed": "false",
        "id": "-C6tZJHqtm0L"
      },
      "source": [
        "The boolean array must be of the same length as the array axis it’s indexing. You can\n",
        "even mix and match boolean arrays with slices or integers (or sequences of integers;\n",
        "more on this later)."
      ]
    },
    {
      "cell_type": "markdown",
      "metadata": {
        "Collapsed": "false",
        "id": "7Ff0slLatm0L"
      },
      "source": [
        "<img style=\"float: left;\" src=\"pic/pic_0_1.png\">"
      ]
    },
    {
      "cell_type": "markdown",
      "metadata": {
        "Collapsed": "false",
        "id": "SYBLBAZJtm0L"
      },
      "source": [
        "<span style=\"color:red\">Boolean selection will not fail if the boolean array is not the correct length, so I recommend care when using this feature."
      ]
    },
    {
      "cell_type": "code",
      "execution_count": 462,
      "metadata": {
        "Collapsed": "false",
        "id": "uM3_sJZFtm0M"
      },
      "outputs": [],
      "source": [
        "names2 = np.array(['Bob', 'Joe', 'Will', 'Bob', 'Will', 'Joe', 'Joe', 'Bob'])"
      ]
    },
    {
      "cell_type": "code",
      "execution_count": 463,
      "metadata": {
        "Collapsed": "false",
        "colab": {
          "base_uri": "https://localhost:8080/"
        },
        "id": "m2I7JgL_tm0M",
        "outputId": "a07e46e7-5f50-417d-d0ed-cb0712ec11c1"
      },
      "outputs": [
        {
          "output_type": "execute_result",
          "data": {
            "text/plain": [
              "array(['Bob', 'Joe', 'Will', 'Bob', 'Will', 'Joe', 'Joe'], dtype='<U4')"
            ]
          },
          "metadata": {},
          "execution_count": 463
        }
      ],
      "source": [
        "names"
      ]
    },
    {
      "cell_type": "code",
      "execution_count": 464,
      "metadata": {
        "Collapsed": "false",
        "colab": {
          "base_uri": "https://localhost:8080/"
        },
        "id": "QhUXqKsBtm0M",
        "outputId": "d36a2b01-454e-4d75-8590-afdfa32de10a"
      },
      "outputs": [
        {
          "output_type": "execute_result",
          "data": {
            "text/plain": [
              "array([[ 0.0929,  0.2817,  0.769 ,  1.2464],\n",
              "       [ 1.669 , -0.4386, -0.5397,  0.477 ]])"
            ]
          },
          "metadata": {},
          "execution_count": 464
        }
      ],
      "source": [
        "data[names == 'Bob']"
      ]
    },
    {
      "cell_type": "markdown",
      "metadata": {
        "Collapsed": "false",
        "id": "uDCIgEDdtm0M"
      },
      "source": [
        "In these examples, I select from the rows where names == 'Bob' and index the columns, too:\n"
      ]
    },
    {
      "cell_type": "code",
      "execution_count": 465,
      "metadata": {
        "Collapsed": "false",
        "colab": {
          "base_uri": "https://localhost:8080/"
        },
        "id": "3A6wDlDItm0M",
        "outputId": "830710f0-6250-4c89-f0dd-ebfb76424152"
      },
      "outputs": [
        {
          "output_type": "execute_result",
          "data": {
            "text/plain": [
              "array([[ 0.769 ,  1.2464],\n",
              "       [-0.5397,  0.477 ]])"
            ]
          },
          "metadata": {},
          "execution_count": 465
        }
      ],
      "source": [
        "data[names == 'Bob', 2:]"
      ]
    },
    {
      "cell_type": "code",
      "execution_count": 466,
      "metadata": {
        "Collapsed": "false",
        "colab": {
          "base_uri": "https://localhost:8080/"
        },
        "id": "uPue0TrJtm0M",
        "outputId": "9970fde4-5c79-49f0-ad34-5e8e6404ead7"
      },
      "outputs": [
        {
          "output_type": "execute_result",
          "data": {
            "text/plain": [
              "array([1.2464, 0.477 ])"
            ]
          },
          "metadata": {},
          "execution_count": 466
        }
      ],
      "source": [
        "data[names == 'Bob', 3]"
      ]
    },
    {
      "cell_type": "markdown",
      "metadata": {
        "Collapsed": "false",
        "id": "ca7EXhMJtm0M"
      },
      "source": [
        "To select everything but 'Bob', you can either use != or negate the condition using ~:\n"
      ]
    },
    {
      "cell_type": "code",
      "execution_count": 467,
      "metadata": {
        "Collapsed": "false",
        "colab": {
          "base_uri": "https://localhost:8080/"
        },
        "id": "wGY2P8U8tm0M",
        "outputId": "814f1ab8-2ae6-479d-a40e-10fb156a4b40"
      },
      "outputs": [
        {
          "output_type": "execute_result",
          "data": {
            "text/plain": [
              "array([False,  True,  True, False,  True,  True,  True])"
            ]
          },
          "metadata": {},
          "execution_count": 467
        }
      ],
      "source": [
        "names != 'Bob'"
      ]
    },
    {
      "cell_type": "code",
      "execution_count": 468,
      "metadata": {
        "Collapsed": "false",
        "colab": {
          "base_uri": "https://localhost:8080/"
        },
        "id": "-A8yghgxtm0M",
        "outputId": "bcb85a0f-d655-4f7f-f382-db05c99001df"
      },
      "outputs": [
        {
          "output_type": "execute_result",
          "data": {
            "text/plain": [
              "array([[ 1.0072, -1.2962,  0.275 ,  0.2289],\n",
              "       [ 1.3529,  0.8864, -2.0016, -0.3718],\n",
              "       [ 3.2489, -1.0212, -0.5771,  0.1241],\n",
              "       [ 0.3026,  0.5238,  0.0009,  1.3438],\n",
              "       [-0.7135, -0.8312, -2.3702, -1.8608]])"
            ]
          },
          "metadata": {},
          "execution_count": 468
        }
      ],
      "source": [
        "# ~ 는 소멸자가 아니라 ! 와 같은 기능으로 사용된다. \n",
        "data[~(names == 'Bob')]"
      ]
    },
    {
      "cell_type": "markdown",
      "metadata": {
        "Collapsed": "false",
        "id": "-1Xnyrfvtm0M"
      },
      "source": [
        "The ~ operator can be useful when you want to invert a general condition."
      ]
    },
    {
      "cell_type": "code",
      "execution_count": 469,
      "metadata": {
        "Collapsed": "false",
        "colab": {
          "base_uri": "https://localhost:8080/"
        },
        "id": "DGjI7Qsstm0M",
        "outputId": "7b3e827b-2474-41ba-d70b-f676d10f78e2"
      },
      "outputs": [
        {
          "output_type": "execute_result",
          "data": {
            "text/plain": [
              "array([[ 1.0072, -1.2962,  0.275 ,  0.2289],\n",
              "       [ 1.3529,  0.8864, -2.0016, -0.3718],\n",
              "       [ 3.2489, -1.0212, -0.5771,  0.1241],\n",
              "       [ 0.3026,  0.5238,  0.0009,  1.3438],\n",
              "       [-0.7135, -0.8312, -2.3702, -1.8608]])"
            ]
          },
          "metadata": {},
          "execution_count": 469
        }
      ],
      "source": [
        "# name == 'Bob' True / False 값을 cond에 저장 \n",
        "cond = names == 'Bob'\n",
        "data[~cond]"
      ]
    },
    {
      "cell_type": "markdown",
      "metadata": {
        "Collapsed": "false",
        "id": "17635hR-tm0M"
      },
      "source": [
        "Selecting two of the three names to combine multiple boolean conditions, use\n",
        "boolean arithmetic operators like & (and) and | (or):"
      ]
    },
    {
      "cell_type": "code",
      "execution_count": 470,
      "metadata": {
        "Collapsed": "false",
        "colab": {
          "base_uri": "https://localhost:8080/"
        },
        "id": "HI-64FS_tm0M",
        "outputId": "a2246e07-a814-4b6d-ffaf-a7cabc2adcde"
      },
      "outputs": [
        {
          "output_type": "execute_result",
          "data": {
            "text/plain": [
              "array([ True, False,  True,  True,  True, False, False])"
            ]
          },
          "metadata": {},
          "execution_count": 470
        }
      ],
      "source": [
        "mask = (names == 'Bob') | (names == 'Will')\n",
        "mask"
      ]
    },
    {
      "cell_type": "code",
      "execution_count": 471,
      "metadata": {
        "Collapsed": "false",
        "colab": {
          "base_uri": "https://localhost:8080/"
        },
        "id": "WOk2gpOgtm0N",
        "outputId": "1c478112-d295-47ae-c961-d925bef92f6f"
      },
      "outputs": [
        {
          "output_type": "execute_result",
          "data": {
            "text/plain": [
              "array([[ 0.0929,  0.2817,  0.769 ,  1.2464],\n",
              "       [ 1.3529,  0.8864, -2.0016, -0.3718],\n",
              "       [ 1.669 , -0.4386, -0.5397,  0.477 ],\n",
              "       [ 3.2489, -1.0212, -0.5771,  0.1241]])"
            ]
          },
          "metadata": {},
          "execution_count": 471
        }
      ],
      "source": [
        "data[mask]"
      ]
    },
    {
      "cell_type": "markdown",
      "metadata": {
        "Collapsed": "false",
        "id": "XLqiONActm0N"
      },
      "source": [
        "Selecting data from an array by boolean indexing *always* creates a copy of the data,\n",
        "even if the returned array is unchanged.\n"
      ]
    },
    {
      "cell_type": "markdown",
      "metadata": {
        "Collapsed": "false",
        "id": "TCz7b8wjtm0N"
      },
      "source": [
        "<img style=\"float: left;\" src=\"pic/pic_0_1.png\">"
      ]
    },
    {
      "cell_type": "markdown",
      "metadata": {
        "Collapsed": "false",
        "id": "X3zLvIVDtm0N"
      },
      "source": [
        "<span style=\"color:red\">The Python keywords and and or do not work with boolean arrays. Use & (and) and | (or) instead.\n"
      ]
    },
    {
      "cell_type": "markdown",
      "metadata": {
        "Collapsed": "false",
        "id": "3Qjalilrtm0N"
      },
      "source": [
        "다음 코드는 에러"
      ]
    },
    {
      "cell_type": "code",
      "execution_count": 472,
      "metadata": {
        "Collapsed": "false",
        "colab": {
          "base_uri": "https://localhost:8080/",
          "height": 176
        },
        "id": "ZNp4EXFztm0N",
        "outputId": "9fcc9e60-f528-44db-ba1d-b340e984445f"
      },
      "outputs": [
        {
          "output_type": "error",
          "ename": "ValueError",
          "evalue": "ignored",
          "traceback": [
            "\u001b[0;31m---------------------------------------------------------------------------\u001b[0m",
            "\u001b[0;31mValueError\u001b[0m                                Traceback (most recent call last)",
            "\u001b[0;32m<ipython-input-472-71369c410fa9>\u001b[0m in \u001b[0;36m<module>\u001b[0;34m()\u001b[0m\n\u001b[0;32m----> 1\u001b[0;31m \u001b[0mmask\u001b[0m \u001b[0;34m=\u001b[0m \u001b[0;34m(\u001b[0m\u001b[0mnames\u001b[0m \u001b[0;34m==\u001b[0m \u001b[0;34m'Bob'\u001b[0m\u001b[0;34m)\u001b[0m \u001b[0;32mand\u001b[0m \u001b[0;34m(\u001b[0m\u001b[0mnames\u001b[0m \u001b[0;34m==\u001b[0m \u001b[0;34m'Will'\u001b[0m\u001b[0;34m)\u001b[0m\u001b[0;34m\u001b[0m\u001b[0;34m\u001b[0m\u001b[0m\n\u001b[0m",
            "\u001b[0;31mValueError\u001b[0m: The truth value of an array with more than one element is ambiguous. Use a.any() or a.all()"
          ]
        }
      ],
      "source": [
        "mask = (names == 'Bob') and (names == 'Will')"
      ]
    },
    {
      "cell_type": "markdown",
      "metadata": {
        "Collapsed": "false",
        "id": "nNZBaA4Ptm0N"
      },
      "source": [
        "Setting values with boolean arrays works in a common-sense way. To set all of the\n",
        "negative values in data to 0 we need only do:"
      ]
    },
    {
      "cell_type": "code",
      "execution_count": null,
      "metadata": {
        "Collapsed": "false",
        "id": "VK6GVOWEtm0N"
      },
      "outputs": [],
      "source": [
        "data[data < 0] = 0\n",
        "data"
      ]
    },
    {
      "cell_type": "code",
      "execution_count": null,
      "metadata": {
        "Collapsed": "false",
        "id": "kB9oOTMhtm0N"
      },
      "outputs": [],
      "source": [
        "names"
      ]
    },
    {
      "cell_type": "markdown",
      "metadata": {
        "Collapsed": "false",
        "id": "C9JjNhHQtm0N"
      },
      "source": [
        "Setting whole rows or columns using a one-dimensional boolean array is also easy:"
      ]
    },
    {
      "cell_type": "code",
      "execution_count": null,
      "metadata": {
        "Collapsed": "false",
        "id": "qkDflpwCtm0N"
      },
      "outputs": [],
      "source": [
        "data[names != 'Joe'] = 7\n",
        "data"
      ]
    },
    {
      "cell_type": "markdown",
      "metadata": {
        "Collapsed": "false",
        "id": "kWNCtq_gtm0N"
      },
      "source": [
        "### Fancy Indexing"
      ]
    },
    {
      "cell_type": "markdown",
      "metadata": {
        "Collapsed": "false",
        "id": "ecr7c1pJtm0N"
      },
      "source": [
        "*Fancy indexing* is a term adopted by NumPy to describe indexing using integer arrays."
      ]
    },
    {
      "cell_type": "code",
      "execution_count": 473,
      "metadata": {
        "Collapsed": "false",
        "id": "6JePy4iztm0N"
      },
      "outputs": [],
      "source": [
        "arr = np.zeros((8, 4))"
      ]
    },
    {
      "cell_type": "code",
      "execution_count": 474,
      "metadata": {
        "Collapsed": "false",
        "id": "4rh6q6Gwtm0N"
      },
      "outputs": [],
      "source": [
        "for i in range(8):\n",
        "    arr[i] = i"
      ]
    },
    {
      "cell_type": "code",
      "execution_count": null,
      "metadata": {
        "Collapsed": "false",
        "id": "Mgtlek3wtm0O"
      },
      "outputs": [],
      "source": [
        "arr"
      ]
    },
    {
      "cell_type": "markdown",
      "metadata": {
        "Collapsed": "false",
        "id": "Fny6G3ixtm0O"
      },
      "source": [
        "To select out a subset of the rows in a particular order, you can simply pass a list or ndarray of integers specifying the desired order."
      ]
    },
    {
      "cell_type": "code",
      "execution_count": 475,
      "metadata": {
        "Collapsed": "false",
        "colab": {
          "base_uri": "https://localhost:8080/"
        },
        "id": "UrWwwpiotm0O",
        "outputId": "c06a3dbe-0536-413a-fbfa-9ed488296fa0"
      },
      "outputs": [
        {
          "output_type": "execute_result",
          "data": {
            "text/plain": [
              "array([[4., 4., 4., 4.],\n",
              "       [3., 3., 3., 3.],\n",
              "       [0., 0., 0., 0.],\n",
              "       [6., 6., 6., 6.]])"
            ]
          },
          "metadata": {},
          "execution_count": 475
        }
      ],
      "source": [
        "arr[[4, 3, 0, 6]]"
      ]
    },
    {
      "cell_type": "markdown",
      "metadata": {
        "Collapsed": "false",
        "id": "K7Ho3b7ytm0O"
      },
      "source": [
        "Hopefully this code did what you expected! Using negative indices selects rows from\n",
        "the end:"
      ]
    },
    {
      "cell_type": "code",
      "execution_count": 476,
      "metadata": {
        "Collapsed": "false",
        "colab": {
          "base_uri": "https://localhost:8080/"
        },
        "id": "5uzIbgqstm0O",
        "outputId": "0c73d66f-f0cb-4ebb-c631-8167bb751903"
      },
      "outputs": [
        {
          "output_type": "execute_result",
          "data": {
            "text/plain": [
              "array([[5., 5., 5., 5.],\n",
              "       [3., 3., 3., 3.],\n",
              "       [1., 1., 1., 1.]])"
            ]
          },
          "metadata": {},
          "execution_count": 476
        }
      ],
      "source": [
        "arr[[-3, -5, -7]]"
      ]
    },
    {
      "cell_type": "code",
      "execution_count": null,
      "metadata": {
        "Collapsed": "false",
        "id": "BXvxsxLDtm0O"
      },
      "outputs": [],
      "source": [
        "arr = np.arange(32).reshape((8, 4))"
      ]
    },
    {
      "cell_type": "code",
      "execution_count": null,
      "metadata": {
        "Collapsed": "false",
        "id": "ImzKkZQMtm0O"
      },
      "outputs": [],
      "source": [
        "arr"
      ]
    },
    {
      "cell_type": "markdown",
      "metadata": {
        "Collapsed": "false",
        "id": "87r5AlFktm0O"
      },
      "source": [
        "Passing multiple index arrays does something slightly different; it selects a onedimensional array of elements corresponding to each tuple of indices."
      ]
    },
    {
      "cell_type": "code",
      "execution_count": null,
      "metadata": {
        "Collapsed": "false",
        "id": "Xb-44hsFtm0O"
      },
      "outputs": [],
      "source": [
        "arr[[1, 5, 7, 2], [0, 3, 1, 2]]"
      ]
    },
    {
      "cell_type": "markdown",
      "metadata": {
        "Collapsed": "false",
        "id": "ON4jl8N6tm0O"
      },
      "source": [
        "Here the elements (1, 0), (5, 3), (7, 1), and (2, 2) were selected. Regardless of how many dimensions the array has (here, only 2), the result of fancy indexing is always one-dimensional. "
      ]
    },
    {
      "cell_type": "markdown",
      "metadata": {
        "Collapsed": "false",
        "id": "HdJsu2UHtm0O"
      },
      "source": [
        "### Transposing Arrays and Swapping Axes"
      ]
    },
    {
      "cell_type": "markdown",
      "metadata": {
        "Collapsed": "false",
        "id": "R-2aiNoutm0O"
      },
      "source": [
        "Transposing is a special form of reshaping that similarly returns a view on the underlying data without copying anything.   \n",
        "Arrays have the **transpose** method and also the special T attribute."
      ]
    },
    {
      "cell_type": "code",
      "execution_count": 477,
      "metadata": {
        "Collapsed": "false",
        "id": "irLMBgIGtm0O"
      },
      "outputs": [],
      "source": [
        "# trnaspose => 행, 열 = 열, 행 \n",
        "# 즉, 행과 열의 값을 바꿔준다. \n",
        "arr = np.arange(15).reshape((3, 5))"
      ]
    },
    {
      "cell_type": "code",
      "execution_count": 478,
      "metadata": {
        "Collapsed": "false",
        "colab": {
          "base_uri": "https://localhost:8080/"
        },
        "id": "2vep4eRftm0O",
        "outputId": "62f27419-e481-4ad2-9d88-12b8265e8fa1"
      },
      "outputs": [
        {
          "output_type": "execute_result",
          "data": {
            "text/plain": [
              "array([[ 0,  1,  2,  3,  4],\n",
              "       [ 5,  6,  7,  8,  9],\n",
              "       [10, 11, 12, 13, 14]])"
            ]
          },
          "metadata": {},
          "execution_count": 478
        }
      ],
      "source": [
        "arr"
      ]
    },
    {
      "cell_type": "code",
      "execution_count": 479,
      "metadata": {
        "Collapsed": "false",
        "colab": {
          "base_uri": "https://localhost:8080/"
        },
        "id": "EWYVoxlltm0O",
        "outputId": "3f1e6c9e-7eee-46ba-bcf2-06088e198b07"
      },
      "outputs": [
        {
          "output_type": "execute_result",
          "data": {
            "text/plain": [
              "array([[ 0,  5, 10],\n",
              "       [ 1,  6, 11],\n",
              "       [ 2,  7, 12],\n",
              "       [ 3,  8, 13],\n",
              "       [ 4,  9, 14]])"
            ]
          },
          "metadata": {},
          "execution_count": 479
        }
      ],
      "source": [
        "arr.T"
      ]
    },
    {
      "cell_type": "markdown",
      "metadata": {
        "Collapsed": "false",
        "id": "viR38EIJtm0O"
      },
      "source": [
        "When doing matrix computations, you may do this very often—for example, when computing the inner matrix product using **np.dot**."
      ]
    },
    {
      "cell_type": "code",
      "execution_count": null,
      "metadata": {
        "Collapsed": "false",
        "id": "yI5N6YLctm0O"
      },
      "outputs": [],
      "source": [
        "arr = np.random.randn(6, 3)"
      ]
    },
    {
      "cell_type": "code",
      "execution_count": null,
      "metadata": {
        "Collapsed": "false",
        "id": "LDmGGzlAtm0P"
      },
      "outputs": [],
      "source": [
        "arr.T"
      ]
    },
    {
      "cell_type": "code",
      "execution_count": null,
      "metadata": {
        "Collapsed": "false",
        "id": "BQok2_Gqtm0P"
      },
      "outputs": [],
      "source": [
        "arr"
      ]
    },
    {
      "cell_type": "code",
      "execution_count": null,
      "metadata": {
        "Collapsed": "false",
        "id": "pd1FwHsZtm0P"
      },
      "outputs": [],
      "source": [
        "np.dot(arr.T, arr)"
      ]
    },
    {
      "cell_type": "markdown",
      "metadata": {
        "Collapsed": "false",
        "id": "pdlbmhXttm0P"
      },
      "source": [
        "## Universal Functions: Fast Element-Wise Array Functions"
      ]
    },
    {
      "cell_type": "code",
      "execution_count": null,
      "metadata": {
        "Collapsed": "false",
        "id": "GYI-Bz7itm0P"
      },
      "outputs": [],
      "source": [
        "L=[1,2,3,4]"
      ]
    },
    {
      "cell_type": "code",
      "execution_count": null,
      "metadata": {
        "Collapsed": "false",
        "id": "LQfLHN94tm0P"
      },
      "outputs": [],
      "source": [
        "import math\n",
        "math.sqrt(L)"
      ]
    },
    {
      "cell_type": "markdown",
      "metadata": {
        "Collapsed": "false",
        "id": "uutSAuQotm0P"
      },
      "source": [
        "A universal function, or *ufunc*, is a function that performs element-wise operations on data in ndarrays.  \n",
        "You can think of them as fast *vectorized wrappers* for simple functions that take one or more scalar values and produce one or more  scalar results.   \n",
        "\n",
        "Many ufuncs are simple element-wise transformations, like **sqrt** or **exp**:"
      ]
    },
    {
      "cell_type": "code",
      "execution_count": null,
      "metadata": {
        "Collapsed": "false",
        "id": "PBjCyctJtm0P"
      },
      "outputs": [],
      "source": [
        "arr = np.arange(10)"
      ]
    },
    {
      "cell_type": "code",
      "execution_count": null,
      "metadata": {
        "Collapsed": "false",
        "id": "jopvbnrQtm0P"
      },
      "outputs": [],
      "source": [
        "arr"
      ]
    },
    {
      "cell_type": "code",
      "execution_count": null,
      "metadata": {
        "Collapsed": "false",
        "id": "WEanZFdttm0P"
      },
      "outputs": [],
      "source": [
        "np.sqrt(arr)"
      ]
    },
    {
      "cell_type": "code",
      "execution_count": null,
      "metadata": {
        "Collapsed": "false",
        "id": "ftSKwJwttm0P"
      },
      "outputs": [],
      "source": [
        "np.exp(arr)"
      ]
    },
    {
      "cell_type": "markdown",
      "metadata": {
        "Collapsed": "false",
        "id": "ENj9Xmi-tm0P"
      },
      "source": [
        "These are referred to as *unary* ufuncs.   \n",
        "Others, such as **add** or **maximum**, take two arrays (thus, binary ufuncs) and return a single array as the result.\n"
      ]
    },
    {
      "cell_type": "code",
      "execution_count": null,
      "metadata": {
        "Collapsed": "false",
        "id": "d_aYONQptm0P"
      },
      "outputs": [],
      "source": [
        "x = np.random.randn(8)"
      ]
    },
    {
      "cell_type": "code",
      "execution_count": null,
      "metadata": {
        "Collapsed": "false",
        "id": "i3uzqxQVtm0P"
      },
      "outputs": [],
      "source": [
        "y = np.random.randn(8)"
      ]
    },
    {
      "cell_type": "code",
      "execution_count": null,
      "metadata": {
        "Collapsed": "false",
        "id": "66sM5sNRtm0P"
      },
      "outputs": [],
      "source": [
        "x"
      ]
    },
    {
      "cell_type": "code",
      "execution_count": null,
      "metadata": {
        "Collapsed": "false",
        "id": "ptPogwLWtm0P"
      },
      "outputs": [],
      "source": [
        "y"
      ]
    },
    {
      "cell_type": "code",
      "execution_count": null,
      "metadata": {
        "Collapsed": "false",
        "id": "9dvmN6cItm0P"
      },
      "outputs": [],
      "source": [
        "np.maximum(x, y)"
      ]
    },
    {
      "cell_type": "markdown",
      "metadata": {
        "Collapsed": "false",
        "id": "xzcuvuIVtm0Q"
      },
      "source": [
        "Here, numpy.maximum computed the element-wise maximum of the elements in x and y. "
      ]
    },
    {
      "cell_type": "markdown",
      "metadata": {
        "Collapsed": "false",
        "id": "DftKbVYQtm0Q"
      },
      "source": [
        "<img style=\"float: left;\" src=\"pic/pic_4_5.png\" width=\"700\">"
      ]
    },
    {
      "cell_type": "markdown",
      "metadata": {
        "Collapsed": "false",
        "id": "mFHpvZq_tm0Q"
      },
      "source": [
        "<img style=\"float: left;\" src=\"pic/pic_4_6.png\" width=\"700\">"
      ]
    },
    {
      "cell_type": "markdown",
      "metadata": {
        "Collapsed": "false",
        "id": "tR6xaNDAtm0Q"
      },
      "source": [
        "<img style=\"float: left;\" src=\"pic/pic_4_7.png\" width=\"700\">"
      ]
    },
    {
      "cell_type": "markdown",
      "metadata": {
        "Collapsed": "false",
        "id": "xDnwDCAUtm0Q"
      },
      "source": [
        "## 4.3 Array-Oriented Programming with Arrays"
      ]
    },
    {
      "cell_type": "markdown",
      "metadata": {
        "Collapsed": "false",
        "id": "v6_gFMFftm0Q"
      },
      "source": [
        "Using NumPy arrays enables you to express many kinds of data processing tasks as <span style=\"color:blue\">**concise array expressions**<span style=\"color:black\"> that might otherwise require writing loops.     \n",
        "This practice of replacing explicit loops with array expressions is commonly referred to as <span style=\"color:red\">**vectorization**<span style=\"color:black\">.   \n",
        "In general, vectorized array operations will often be one or two (or more) orders of magnitude faster than their pure Python equivalents, with the biggest impact in any kind of numerical computations. "
      ]
    },
    {
      "cell_type": "markdown",
      "metadata": {
        "Collapsed": "false",
        "id": "rBCLkELQtm0Q"
      },
      "source": [
        "As a simple example, suppose we wished to evaluate the function sqrt(x^2 + y^2) across a regular grid of values.   \n",
        "The **np.meshgrid** function takes two 1D arrays and produces two 2D matrices corresponding to all pairs of (x, y) in the two arrays:"
      ]
    },
    {
      "cell_type": "code",
      "execution_count": null,
      "metadata": {
        "Collapsed": "false",
        "id": "RhZ-h_chtm0Q"
      },
      "outputs": [],
      "source": [
        "points = np.arange(-5, 5, 0.01) # 1000 equally spaced points"
      ]
    },
    {
      "cell_type": "code",
      "execution_count": null,
      "metadata": {
        "Collapsed": "false",
        "id": "YauLdeB8tm0Q"
      },
      "outputs": [],
      "source": [
        "points"
      ]
    },
    {
      "cell_type": "code",
      "execution_count": null,
      "metadata": {
        "Collapsed": "false",
        "id": "hUhmsInMtm0Q"
      },
      "outputs": [],
      "source": [
        "xs, ys = np.meshgrid(points, points)"
      ]
    },
    {
      "cell_type": "code",
      "execution_count": null,
      "metadata": {
        "Collapsed": "false",
        "id": "h6lg2i0Jtm0Q"
      },
      "outputs": [],
      "source": [
        "xs"
      ]
    },
    {
      "cell_type": "code",
      "execution_count": null,
      "metadata": {
        "Collapsed": "false",
        "id": "lbcSTSErtm0Q"
      },
      "outputs": [],
      "source": [
        "ys"
      ]
    },
    {
      "cell_type": "code",
      "execution_count": null,
      "metadata": {
        "Collapsed": "false",
        "id": "gIjhbJYUtm0Q"
      },
      "outputs": [],
      "source": [
        "z = np.sqrt(xs ** 2 + ys ** 2)\n",
        "z"
      ]
    },
    {
      "cell_type": "markdown",
      "metadata": {
        "Collapsed": "false",
        "id": "HghwdWsWtm0Q"
      },
      "source": [
        "As a preview of Chapter 9, I use matplotlib to create visualizations of this twodimensional array:\n"
      ]
    },
    {
      "cell_type": "code",
      "execution_count": null,
      "metadata": {
        "Collapsed": "false",
        "id": "dP0fo2bWtm0Q"
      },
      "outputs": [],
      "source": [
        "import matplotlib.pyplot as plt\n",
        "plt.imshow(z, cmap=plt.cm.gray); plt.colorbar()\n",
        "plt.title(\"Image plot of $\\sqrt{x^2 + y^2}$ for a grid of values\")\n",
        "\n",
        "plt.draw()"
      ]
    },
    {
      "cell_type": "code",
      "execution_count": null,
      "metadata": {
        "Collapsed": "false",
        "id": "e8ZWLIlctm0Q"
      },
      "outputs": [],
      "source": [
        "plt.close('all')"
      ]
    },
    {
      "cell_type": "markdown",
      "metadata": {
        "Collapsed": "false",
        "id": "n45Q6M3Ntm0Q"
      },
      "source": [
        "### Expressing Conditional Logic as Array Operations"
      ]
    },
    {
      "cell_type": "markdown",
      "metadata": {
        "Collapsed": "false",
        "id": "GI1Yw6_Btm0R"
      },
      "source": [
        "The **numpy.where** function is a *vectorized version* of the ternary expression **x if condition else y**. "
      ]
    },
    {
      "cell_type": "code",
      "execution_count": null,
      "metadata": {
        "Collapsed": "false",
        "id": "nXzpi8EBtm0R"
      },
      "outputs": [],
      "source": [
        "xarr = np.array([1.1, 1.2, 1.3, 1.4, 1.5])\n",
        "yarr = np.array([2.1, 2.2, 2.3, 2.4, 2.5])\n",
        "cond = np.array([True, False, True, True, False])"
      ]
    },
    {
      "cell_type": "markdown",
      "metadata": {
        "Collapsed": "false",
        "id": "JLtqvJTUtm0R"
      },
      "source": [
        "Suppose we wanted to take a value from xarr whenever the corresponding value in cond is True, and otherwise take the value from yarr.  \n",
        "A list comprehension doing this might look like:"
      ]
    },
    {
      "cell_type": "code",
      "execution_count": null,
      "metadata": {
        "Collapsed": "false",
        "id": "OGYcXVOCtm0R"
      },
      "outputs": [],
      "source": [
        "result = [(x if c else y)\n",
        "          for x, y, c in zip(xarr, yarr, cond)]\n",
        "result"
      ]
    },
    {
      "cell_type": "markdown",
      "metadata": {
        "Collapsed": "false",
        "id": "Vlg_BBzFtm0R"
      },
      "source": [
        "This has multiple problems.   \n",
        "First, it will not be very fast for large arrays (because all the work is being done in interpreted Python code).   \n",
        "Second, it will not work with multidimensional arrays.   \n",
        "With np.where you can write this very concisely:"
      ]
    },
    {
      "cell_type": "code",
      "execution_count": null,
      "metadata": {
        "Collapsed": "false",
        "id": "ZS0qmggGtm0R"
      },
      "outputs": [],
      "source": [
        "result = np.where(cond, xarr, yarr)\n",
        "result"
      ]
    },
    {
      "cell_type": "markdown",
      "metadata": {
        "Collapsed": "false",
        "id": "9exC00Tztm0R"
      },
      "source": [
        "The second and third arguments to **np.where** don’t need to be arrays; one or both of them can be scalars.   \n",
        "A typical use of where in data analysis is to produce a new array of values based on another array.   \n",
        "Suppose you had a matrix of randomly generated data and you wanted to replace all positive values with 2 and all negative values with –2.   \n",
        "This is very easy to do with np.where:"
      ]
    },
    {
      "cell_type": "code",
      "execution_count": null,
      "metadata": {
        "Collapsed": "false",
        "id": "bn_Nchkutm0R"
      },
      "outputs": [],
      "source": [
        "arr = np.random.randn(4, 4)"
      ]
    },
    {
      "cell_type": "code",
      "execution_count": null,
      "metadata": {
        "Collapsed": "false",
        "id": "8RVoSOuvtm0R"
      },
      "outputs": [],
      "source": [
        "arr"
      ]
    },
    {
      "cell_type": "code",
      "execution_count": null,
      "metadata": {
        "Collapsed": "false",
        "id": "IB5Qrx8Otm0R"
      },
      "outputs": [],
      "source": [
        "arr > 0"
      ]
    },
    {
      "cell_type": "code",
      "execution_count": null,
      "metadata": {
        "Collapsed": "false",
        "id": "VXxdBKuZtm0R"
      },
      "outputs": [],
      "source": [
        "np.where(arr > 0, 2, -2)"
      ]
    },
    {
      "cell_type": "markdown",
      "metadata": {
        "Collapsed": "false",
        "id": "utmSM_59tm0R"
      },
      "source": [
        "You can combine scalars and arrays when using np.where. For example, I can replace\n",
        "all positive values in arr with the constant 2 like so:\n"
      ]
    },
    {
      "cell_type": "code",
      "execution_count": null,
      "metadata": {
        "Collapsed": "false",
        "id": "cX8ASR1Rtm0R"
      },
      "outputs": [],
      "source": [
        "np.where(arr > 0, 2, arr) # set only positive values to 2"
      ]
    },
    {
      "cell_type": "markdown",
      "metadata": {
        "Collapsed": "false",
        "id": "adZv4RO-tm0R"
      },
      "source": [
        "### Mathematical and Statistical Methods"
      ]
    },
    {
      "cell_type": "markdown",
      "metadata": {
        "Collapsed": "false",
        "id": "T8DvDXp_tm0R"
      },
      "source": [
        "A set of mathematical functions that compute statistics about an entire array or about the data along an axis are accessible as methods of the array class.   \n",
        "You can use aggregations (often called *reductions*) like **sum**, **mean**, and **std** (standard deviation) either by calling the array instance method or using the top-level NumPy function.   \n",
        "\n",
        "Here I generate some normally distributed random data and compute some aggregate statistics:\n"
      ]
    },
    {
      "cell_type": "code",
      "execution_count": null,
      "metadata": {
        "Collapsed": "false",
        "id": "hVmJH0datm0R"
      },
      "outputs": [],
      "source": [
        "arr = np.random.randn(5, 4)"
      ]
    },
    {
      "cell_type": "code",
      "execution_count": null,
      "metadata": {
        "Collapsed": "false",
        "id": "H_6NFxgAtm0S"
      },
      "outputs": [],
      "source": [
        "arr"
      ]
    },
    {
      "cell_type": "code",
      "execution_count": null,
      "metadata": {
        "Collapsed": "false",
        "id": "X9dTEl58tm0S"
      },
      "outputs": [],
      "source": [
        "arr.mean()"
      ]
    },
    {
      "cell_type": "code",
      "execution_count": null,
      "metadata": {
        "Collapsed": "false",
        "id": "0CnZ6lzBtm0S"
      },
      "outputs": [],
      "source": [
        "np.mean(arr)"
      ]
    },
    {
      "cell_type": "code",
      "execution_count": null,
      "metadata": {
        "Collapsed": "false",
        "id": "xo2lqRR6tm0S"
      },
      "outputs": [],
      "source": [
        "arr.sum()"
      ]
    },
    {
      "cell_type": "code",
      "execution_count": null,
      "metadata": {
        "Collapsed": "false",
        "id": "Rpu58Vsbtm0S"
      },
      "outputs": [],
      "source": [
        "np.sum(arr)"
      ]
    },
    {
      "cell_type": "markdown",
      "metadata": {
        "Collapsed": "false",
        "id": "rHy2YWK6tm0S"
      },
      "source": [
        "Functions like **mean** and **sum** take an optional axis argument that computes the statistic over the given axis, resulting in an array with one fewer dimension."
      ]
    },
    {
      "cell_type": "markdown",
      "metadata": {
        "Collapsed": "false",
        "id": "Xw3sP3nvtm0S"
      },
      "source": [
        "*m* x *n* arrray 에서, mean(0) (sum,max,min 동일)의 결과는 크기 *n*의 array 이고, mean(1) 의 결과는 크기 *m*의 array 이다. "
      ]
    },
    {
      "cell_type": "code",
      "execution_count": null,
      "metadata": {
        "Collapsed": "false",
        "id": "TaISzyJztm0S"
      },
      "outputs": [],
      "source": [
        "arr.sum(axis=0)"
      ]
    },
    {
      "cell_type": "code",
      "execution_count": null,
      "metadata": {
        "Collapsed": "false",
        "id": "XUS0CEYntm0S"
      },
      "outputs": [],
      "source": [
        "arr.mean(axis=1)"
      ]
    },
    {
      "cell_type": "code",
      "execution_count": null,
      "metadata": {
        "Collapsed": "false",
        "id": "vWWdbg38tm0S"
      },
      "outputs": [],
      "source": [
        "arr.mean(1)"
      ]
    },
    {
      "cell_type": "markdown",
      "metadata": {
        "Collapsed": "false",
        "id": "3JPxxAtmtm0S"
      },
      "source": [
        "Here, **arr.mean(1)** means “compute mean across the columns” where **arr.sum(0)** means “compute sum down the rows.”   "
      ]
    },
    {
      "cell_type": "markdown",
      "metadata": {
        "Collapsed": "false",
        "id": "hS9tgmOctm0S"
      },
      "source": [
        "Other methods like **cumsum** and **cumprod** do not aggregate, instead producing an array of the intermediate results:"
      ]
    },
    {
      "cell_type": "code",
      "execution_count": null,
      "metadata": {
        "Collapsed": "false",
        "id": "RevEMj4Ntm0S"
      },
      "outputs": [],
      "source": [
        "arr = np.array([0, 1, 2, 3, 4, 5, 6, 7])\n",
        "arr.cumsum()"
      ]
    },
    {
      "cell_type": "markdown",
      "metadata": {
        "Collapsed": "false",
        "id": "_NqK--Mhtm0S"
      },
      "source": [
        "In multidimensional arrays, accumulation functions like cumsum return an array of\n",
        "the same size, but with the partial aggregates computed along the indicated axis\n",
        "according to each lower dimensional slice:\n"
      ]
    },
    {
      "cell_type": "code",
      "execution_count": null,
      "metadata": {
        "Collapsed": "false",
        "id": "HPAi1iLHtm0S"
      },
      "outputs": [],
      "source": [
        "arr = np.array([[0, 1, 2], [3, 4, 5], [6, 7, 8]])"
      ]
    },
    {
      "cell_type": "code",
      "execution_count": null,
      "metadata": {
        "Collapsed": "false",
        "id": "N0G6L2AOtm0T"
      },
      "outputs": [],
      "source": [
        "arr"
      ]
    },
    {
      "cell_type": "code",
      "execution_count": null,
      "metadata": {
        "Collapsed": "false",
        "id": "lfFhe0b1tm0T"
      },
      "outputs": [],
      "source": [
        "arr.cumsum(axis=0)"
      ]
    },
    {
      "cell_type": "code",
      "execution_count": null,
      "metadata": {
        "Collapsed": "false",
        "id": "HoO7RBa0tm0T"
      },
      "outputs": [],
      "source": [
        "arr.cumprod(axis=1)"
      ]
    },
    {
      "cell_type": "markdown",
      "metadata": {
        "Collapsed": "false",
        "id": "e9ihnQRYtm0T"
      },
      "source": [
        "<img style=\"float: left;\" src=\"pic/pic_4_8.png\" width=\"700\">"
      ]
    },
    {
      "cell_type": "markdown",
      "metadata": {
        "Collapsed": "false",
        "id": "qaAOOEVhtm0T"
      },
      "source": [
        "### Methods for Boolean Arrays"
      ]
    },
    {
      "cell_type": "markdown",
      "metadata": {
        "Collapsed": "false",
        "id": "8XuPRp1ttm0T"
      },
      "source": [
        "Boolean values are coerced to 1 (**True**) and 0 (**False**) in the preceding methods.   \n",
        "Thus, **sum** is often used as a means of counting **True** values in a boolean array."
      ]
    },
    {
      "cell_type": "code",
      "execution_count": null,
      "metadata": {
        "Collapsed": "false",
        "id": "xamYJzYNtm0T"
      },
      "outputs": [],
      "source": [
        "arr = np.random.randn(100)"
      ]
    },
    {
      "cell_type": "code",
      "execution_count": null,
      "metadata": {
        "Collapsed": "false",
        "id": "xiPUG5njtm0T"
      },
      "outputs": [],
      "source": [
        "arr"
      ]
    },
    {
      "cell_type": "code",
      "execution_count": null,
      "metadata": {
        "Collapsed": "false",
        "id": "TelAzi_Dtm0T"
      },
      "outputs": [],
      "source": [
        "arr>0"
      ]
    },
    {
      "cell_type": "code",
      "execution_count": null,
      "metadata": {
        "Collapsed": "false",
        "id": "gPyhwldhtm0T"
      },
      "outputs": [],
      "source": [
        "(arr > 0).sum() # Number of positive values"
      ]
    },
    {
      "cell_type": "markdown",
      "metadata": {
        "Collapsed": "false",
        "id": "XIlHNNvltm0T"
      },
      "source": [
        "There are two additional methods, **any** and **all**, useful especially for boolean arrays. any tests whether one or more values in an array is True, while all checks if every value is True.\n"
      ]
    },
    {
      "cell_type": "code",
      "execution_count": null,
      "metadata": {
        "Collapsed": "false",
        "id": "fI0UM0Zytm0T"
      },
      "outputs": [],
      "source": [
        "bools = np.array([False, False, True, False])"
      ]
    },
    {
      "cell_type": "code",
      "execution_count": null,
      "metadata": {
        "Collapsed": "false",
        "id": "9Tu8wKv7tm0T"
      },
      "outputs": [],
      "source": [
        "bools.any()"
      ]
    },
    {
      "cell_type": "code",
      "execution_count": null,
      "metadata": {
        "Collapsed": "false",
        "id": "KUyfOsRYtm0T"
      },
      "outputs": [],
      "source": [
        "bools.all()"
      ]
    },
    {
      "cell_type": "markdown",
      "metadata": {
        "Collapsed": "false",
        "id": "MBbwsXxVtm0U"
      },
      "source": [
        "### Sorting"
      ]
    },
    {
      "cell_type": "markdown",
      "metadata": {
        "Collapsed": "false",
        "id": "BML6cqW9tm0U"
      },
      "source": [
        "Like Python’s built-in list type, NumPy arrays can be sorted in-place with the **sort**\n",
        "method:"
      ]
    },
    {
      "cell_type": "code",
      "execution_count": null,
      "metadata": {
        "Collapsed": "false",
        "id": "ll5e7BeXtm0U"
      },
      "outputs": [],
      "source": [
        "arr = np.random.randn(6)"
      ]
    },
    {
      "cell_type": "code",
      "execution_count": null,
      "metadata": {
        "Collapsed": "false",
        "id": "ibgpl6WZtm0U"
      },
      "outputs": [],
      "source": [
        "arr"
      ]
    },
    {
      "cell_type": "code",
      "execution_count": null,
      "metadata": {
        "Collapsed": "false",
        "id": "YYK4WESjtm0U"
      },
      "outputs": [],
      "source": [
        "arr.sort()"
      ]
    },
    {
      "cell_type": "code",
      "execution_count": null,
      "metadata": {
        "Collapsed": "false",
        "id": "M862xTMrtm0U"
      },
      "outputs": [],
      "source": [
        "arr"
      ]
    },
    {
      "cell_type": "markdown",
      "metadata": {
        "Collapsed": "false",
        "id": "g3vmW4AGtm0U"
      },
      "source": [
        "You can sort each one-dimensional section of values in a multidimensional array inplace along an axis by passing the axis number to sort."
      ]
    },
    {
      "cell_type": "code",
      "execution_count": null,
      "metadata": {
        "Collapsed": "false",
        "id": "LRPikHU8tm0U"
      },
      "outputs": [],
      "source": [
        "arr = np.random.randn(5, 3)"
      ]
    },
    {
      "cell_type": "code",
      "execution_count": null,
      "metadata": {
        "Collapsed": "false",
        "id": "Kh4TAjtEtm0U"
      },
      "outputs": [],
      "source": [
        "arr"
      ]
    },
    {
      "cell_type": "code",
      "execution_count": null,
      "metadata": {
        "Collapsed": "false",
        "id": "-hRk8xRxtm0U"
      },
      "outputs": [],
      "source": [
        "arr.sort(1)"
      ]
    },
    {
      "cell_type": "code",
      "execution_count": null,
      "metadata": {
        "Collapsed": "false",
        "id": "POfSqiBPtm0V"
      },
      "outputs": [],
      "source": [
        "arr"
      ]
    },
    {
      "cell_type": "markdown",
      "metadata": {
        "Collapsed": "false",
        "id": "OHe7liAWtm0V"
      },
      "source": [
        "The top-level method **np.sort** returns a sorted copy of an array instead of modifying the array in-place. A quick-and-dirty way to compute the quantiles of an array is to sort it and select the value at a particular rank"
      ]
    },
    {
      "cell_type": "code",
      "execution_count": null,
      "metadata": {
        "Collapsed": "false",
        "id": "levhG8fKtm0V"
      },
      "outputs": [],
      "source": [
        "arr = np.random.randn(5)\n",
        "arr"
      ]
    },
    {
      "cell_type": "code",
      "execution_count": null,
      "metadata": {
        "Collapsed": "false",
        "id": "-ZcnXF9ztm0V"
      },
      "outputs": [],
      "source": [
        "new=np.sort(arr)\n",
        "new"
      ]
    },
    {
      "cell_type": "code",
      "execution_count": null,
      "metadata": {
        "Collapsed": "false",
        "id": "bMiMM7UItm0V"
      },
      "outputs": [],
      "source": [
        "arr"
      ]
    },
    {
      "cell_type": "code",
      "execution_count": null,
      "metadata": {
        "Collapsed": "false",
        "id": "9gZANv0qtm0V"
      },
      "outputs": [],
      "source": [
        "arr.sort()"
      ]
    },
    {
      "cell_type": "code",
      "execution_count": null,
      "metadata": {
        "Collapsed": "false",
        "id": "sAgOjYNMtm0V"
      },
      "outputs": [],
      "source": [
        "arr"
      ]
    },
    {
      "cell_type": "markdown",
      "metadata": {
        "Collapsed": "false",
        "id": "N9v-S4thtm0V"
      },
      "source": [
        "### Unique and Other Set Logic"
      ]
    },
    {
      "cell_type": "markdown",
      "metadata": {
        "Collapsed": "false",
        "id": "K12b0wFotm0V"
      },
      "source": [
        "NumPy has some basic set operations for one-dimensional ndarrays.   \n",
        "A commonly used one is **np.unique**, which returns the sorted unique values in an array.\n"
      ]
    },
    {
      "cell_type": "code",
      "execution_count": null,
      "metadata": {
        "Collapsed": "false",
        "id": "W3a5FPGOtm0V"
      },
      "outputs": [],
      "source": [
        "names = np.array(['Bob', 'Joe', 'Will', 'Bob', 'Will', 'Joe', 'Joe'])"
      ]
    },
    {
      "cell_type": "code",
      "execution_count": null,
      "metadata": {
        "Collapsed": "false",
        "id": "s2h6LNQXtm0V"
      },
      "outputs": [],
      "source": [
        "np.unique(names)"
      ]
    },
    {
      "cell_type": "code",
      "execution_count": null,
      "metadata": {
        "Collapsed": "false",
        "id": "B-2isx9Vtm0V"
      },
      "outputs": [],
      "source": [
        "ints = np.array([3, 3, 3, 2, 2, 1, 1, 4, 4])"
      ]
    },
    {
      "cell_type": "code",
      "execution_count": null,
      "metadata": {
        "Collapsed": "false",
        "id": "5QrdYQ9Jtm0W"
      },
      "outputs": [],
      "source": [
        "np.unique(ints)"
      ]
    },
    {
      "cell_type": "markdown",
      "metadata": {
        "Collapsed": "false",
        "id": "b-9UKDEGtm0W"
      },
      "source": [
        "<img style=\"float: left;\" src=\"pic/pic_4_9.png\" width=\"700\">"
      ]
    },
    {
      "cell_type": "code",
      "execution_count": null,
      "metadata": {
        "Collapsed": "false",
        "id": "uik8pjGBtm0W"
      },
      "outputs": [],
      "source": [
        "values = np.array([6, 0, 0, 3, 2, 5, 6])\n",
        "np.in1d(values, [2, 3, 6])"
      ]
    },
    {
      "cell_type": "markdown",
      "metadata": {
        "Collapsed": "false",
        "id": "xXJCee-Wtm0W"
      },
      "source": [
        "## 4.4  File Input and Output with Arrays"
      ]
    },
    {
      "cell_type": "markdown",
      "metadata": {
        "Collapsed": "false",
        "id": "LZfekyPjtm0W"
      },
      "source": [
        "NumPy is able to save and load data to and from disk either in text or binary format.\n",
        "In this section I only discuss NumPy’s built-in binary format, since most users will\n",
        "prefer pandas and other tools for loading text or tabular data."
      ]
    },
    {
      "cell_type": "markdown",
      "metadata": {
        "Collapsed": "false",
        "id": "OSmRZ591tm0W"
      },
      "source": [
        "np.save and np.load are the two workhorse functions for efficiently saving and load‐\n",
        "ing array data on disk. Arrays are saved by default in an uncompressed raw binary\n",
        "format with file extension *.npy*"
      ]
    },
    {
      "cell_type": "code",
      "execution_count": null,
      "metadata": {
        "Collapsed": "false",
        "id": "MlWHWdNxtm0W"
      },
      "outputs": [],
      "source": [
        "arr = np.arange(10)"
      ]
    },
    {
      "cell_type": "code",
      "execution_count": null,
      "metadata": {
        "Collapsed": "false",
        "id": "MRUA_Rv-tm0W"
      },
      "outputs": [],
      "source": [
        "np.save('green', arr)"
      ]
    },
    {
      "cell_type": "code",
      "execution_count": null,
      "metadata": {
        "Collapsed": "false",
        "id": "F0oyUMLGtm0W"
      },
      "outputs": [],
      "source": [
        "x=np.load('green.npy')\n",
        "x"
      ]
    },
    {
      "cell_type": "markdown",
      "metadata": {
        "Collapsed": "false",
        "id": "UWTruk1utm0W"
      },
      "source": [
        "## 4.5  Linear Algebra"
      ]
    },
    {
      "cell_type": "markdown",
      "metadata": {
        "Collapsed": "false",
        "id": "HD4pxupdtm0W"
      },
      "source": [
        "Linear algebra, like matrix multiplication, decompositions, determinants, and other square matrix math, is an important part of any array library.   \n",
        "Multiplying two two-dimensional arrays with **\\*  is an element-wise product** instead of a matrix dot product.   \n",
        "Thus, there is a function **dot**, both an array method and a function in the numpy namespace, **for matrix multiplication**:\n"
      ]
    },
    {
      "cell_type": "code",
      "execution_count": null,
      "metadata": {
        "Collapsed": "false",
        "id": "JtQF14gEtm0W"
      },
      "outputs": [],
      "source": [
        "x = np.array([[1., 2., 3.], [4., 5., 6.]])\n",
        "y = np.array([[6., 23.], [-1, 7], [8, 9]])"
      ]
    },
    {
      "cell_type": "code",
      "execution_count": null,
      "metadata": {
        "Collapsed": "false",
        "id": "J9rE5GOatm0W"
      },
      "outputs": [],
      "source": [
        "x"
      ]
    },
    {
      "cell_type": "code",
      "execution_count": null,
      "metadata": {
        "Collapsed": "false",
        "id": "tgYX5STbtm0W"
      },
      "outputs": [],
      "source": [
        "y"
      ]
    },
    {
      "cell_type": "code",
      "execution_count": null,
      "metadata": {
        "Collapsed": "false",
        "id": "20D0C4UXtm0W"
      },
      "outputs": [],
      "source": [
        "x.dot(y)"
      ]
    },
    {
      "cell_type": "markdown",
      "metadata": {
        "Collapsed": "false",
        "id": "ybrtuUmDtm0W"
      },
      "source": [
        "x.dot(y) is equivalent to np.dot(x, y):"
      ]
    },
    {
      "cell_type": "code",
      "execution_count": null,
      "metadata": {
        "Collapsed": "false",
        "id": "SxJtGZpEtm0X"
      },
      "outputs": [],
      "source": [
        "np.dot(x, y)"
      ]
    },
    {
      "cell_type": "markdown",
      "metadata": {
        "Collapsed": "false",
        "id": "OIGrXrQQtm0X"
      },
      "source": [
        "## check broadcasting"
      ]
    },
    {
      "cell_type": "code",
      "execution_count": null,
      "metadata": {
        "Collapsed": "false",
        "id": "yrg_ATgXtm0X"
      },
      "outputs": [],
      "source": [
        "w=np.ones(3)"
      ]
    },
    {
      "cell_type": "code",
      "execution_count": null,
      "metadata": {
        "Collapsed": "false",
        "id": "C8W-ys5_tm0X"
      },
      "outputs": [],
      "source": [
        "w"
      ]
    },
    {
      "cell_type": "code",
      "execution_count": null,
      "metadata": {
        "Collapsed": "false",
        "id": "Cb27qLK0tm0X"
      },
      "outputs": [],
      "source": [
        "w.shape"
      ]
    },
    {
      "cell_type": "code",
      "execution_count": null,
      "metadata": {
        "Collapsed": "false",
        "id": "7bpQphIRtm0X"
      },
      "outputs": [],
      "source": [
        "x"
      ]
    },
    {
      "cell_type": "code",
      "execution_count": null,
      "metadata": {
        "Collapsed": "false",
        "id": "rnxju-K7tm0X"
      },
      "outputs": [],
      "source": [
        "x.shape"
      ]
    },
    {
      "cell_type": "code",
      "execution_count": null,
      "metadata": {
        "Collapsed": "false",
        "id": "a_esB5ixtm0X"
      },
      "outputs": [],
      "source": [
        "x.dot(x)"
      ]
    },
    {
      "cell_type": "code",
      "execution_count": null,
      "metadata": {
        "Collapsed": "false",
        "id": "xoRHzk4Dtm0X"
      },
      "outputs": [],
      "source": [
        "np.dot(x, np.ones(3))"
      ]
    },
    {
      "cell_type": "code",
      "execution_count": null,
      "metadata": {
        "Collapsed": "false",
        "id": "AE2ixOtrtm0X"
      },
      "outputs": [],
      "source": [
        "np.dot(x,w)"
      ]
    },
    {
      "cell_type": "code",
      "execution_count": null,
      "metadata": {
        "Collapsed": "false",
        "id": "CkI4txeVtm0X"
      },
      "outputs": [],
      "source": [
        "x.dot(w)"
      ]
    },
    {
      "cell_type": "code",
      "execution_count": null,
      "metadata": {
        "Collapsed": "false",
        "id": "b2HIh5lWtm0X"
      },
      "outputs": [],
      "source": [
        "x.dot(w).shape"
      ]
    },
    {
      "cell_type": "markdown",
      "metadata": {
        "Collapsed": "false",
        "id": "FFAEaOJWtm0X"
      },
      "source": [
        "The **@** symbol (as of Python 3.5) also works as an infix operator that performs matrix multiplication"
      ]
    },
    {
      "cell_type": "code",
      "execution_count": null,
      "metadata": {
        "Collapsed": "false",
        "id": "pDAnJAzTtm0X"
      },
      "outputs": [],
      "source": [
        "x @ np.ones(3)"
      ]
    },
    {
      "cell_type": "markdown",
      "metadata": {
        "Collapsed": "false",
        "id": "HoiSkbrXtm0X"
      },
      "source": [
        "**numpy.linalg** has a standard set of matrix decompositions and things like inverse and determinant.   \n",
        "These are implemented under the hood via the same industry standard linear algebra libraries used in other languages like MATLAB and R, such as BLAS, LAPACK, or possibly (depending on your NumPy build) the proprietary Intel MKL (Math Kernel Library):\n"
      ]
    },
    {
      "cell_type": "code",
      "execution_count": null,
      "metadata": {
        "Collapsed": "false",
        "id": "LhMs72rVtm0X"
      },
      "outputs": [],
      "source": [
        "from numpy.linalg import inv, qr"
      ]
    },
    {
      "cell_type": "code",
      "execution_count": null,
      "metadata": {
        "Collapsed": "false",
        "id": "ucFcEUCatm0X"
      },
      "outputs": [],
      "source": [
        "X = np.random.randn(5, 5)"
      ]
    },
    {
      "cell_type": "code",
      "execution_count": null,
      "metadata": {
        "Collapsed": "false",
        "id": "blddbc_Wtm0Y"
      },
      "outputs": [],
      "source": [
        "X"
      ]
    },
    {
      "cell_type": "code",
      "execution_count": null,
      "metadata": {
        "Collapsed": "false",
        "id": "rCEzNZuotm0Y"
      },
      "outputs": [],
      "source": [
        "X.T"
      ]
    },
    {
      "cell_type": "code",
      "execution_count": null,
      "metadata": {
        "Collapsed": "false",
        "id": "VMAkbnWvtm0Y"
      },
      "outputs": [],
      "source": [
        "mat = X.T.dot(X)"
      ]
    },
    {
      "cell_type": "code",
      "execution_count": null,
      "metadata": {
        "Collapsed": "false",
        "id": "LNjkHCNztm0Y"
      },
      "outputs": [],
      "source": [
        "mat"
      ]
    },
    {
      "cell_type": "code",
      "execution_count": null,
      "metadata": {
        "Collapsed": "false",
        "id": "G9O3TBN5tm0Y"
      },
      "outputs": [],
      "source": [
        "inv(mat)"
      ]
    },
    {
      "cell_type": "code",
      "execution_count": null,
      "metadata": {
        "Collapsed": "false",
        "id": "R7Hs8tTvtm0Y"
      },
      "outputs": [],
      "source": [
        "mat.dot(inv(mat))"
      ]
    },
    {
      "cell_type": "markdown",
      "metadata": {
        "Collapsed": "false",
        "id": "3zhnea9Ktm0Y"
      },
      "source": [
        "<img style=\"float: left;\" src=\"pic/pic_4_10.png\" width=\"700\">"
      ]
    },
    {
      "cell_type": "markdown",
      "metadata": {
        "Collapsed": "false",
        "id": "dM1gH9X4tm0Y"
      },
      "source": [
        "<img style=\"float: left;\" src=\"pic/pic_4_11.png\" width=\"700\">"
      ]
    },
    {
      "cell_type": "markdown",
      "metadata": {
        "Collapsed": "false",
        "id": "XnlBJQFdtm0Y"
      },
      "source": [
        "## 4.6 Pseudorandom Number Generation"
      ]
    },
    {
      "cell_type": "markdown",
      "metadata": {
        "Collapsed": "false",
        "id": "bv1AWQputm0Y"
      },
      "source": [
        "The **numpy.random** module supplements the built-in Python **random** with functions\n",
        "for efficiently generating whole arrays of sample values from many kinds of probability distributions. For example, you can get a 4 × 4 array of samples from the standard\n",
        "normal distribution using **normal**:"
      ]
    },
    {
      "cell_type": "code",
      "execution_count": null,
      "metadata": {
        "Collapsed": "false",
        "id": "ZQ9utxfttm0Y"
      },
      "outputs": [],
      "source": [
        "samples = np.random.normal(size=(4, 4))\n",
        "samples"
      ]
    },
    {
      "cell_type": "markdown",
      "metadata": {
        "Collapsed": "false",
        "id": "vFfFPBhLtm0Y"
      },
      "source": [
        "Python’s built-in **random** module, by contrast, only samples one value at a time. As\n",
        "you can see from this benchmark, **numpy.random** is well over an order of magnitude\n",
        "faster for generating very large samples:\n"
      ]
    },
    {
      "cell_type": "code",
      "execution_count": null,
      "metadata": {
        "Collapsed": "false",
        "id": "OqC9COY6tm0Y"
      },
      "outputs": [],
      "source": [
        "from random import normalvariate\n",
        "N = 1000000"
      ]
    },
    {
      "cell_type": "code",
      "execution_count": null,
      "metadata": {
        "Collapsed": "false",
        "id": "30QLXG1Htm0Y"
      },
      "outputs": [],
      "source": [
        "%timeit samples = [normalvariate(0, 1) for _ in range(N)]"
      ]
    },
    {
      "cell_type": "code",
      "execution_count": null,
      "metadata": {
        "Collapsed": "false",
        "id": "oS4wOFc4tm0Y"
      },
      "outputs": [],
      "source": [
        "%timeit samples2=np.random.normal(size=N)"
      ]
    },
    {
      "cell_type": "markdown",
      "metadata": {
        "Collapsed": "false",
        "id": "BFQKENuItm0Z"
      },
      "source": [
        "We say that these are pseudorandom numbers because they are generated by an algorithm with deterministic behavior based on the *seed* of the random number generator. You can change NumPy’s random number generation seed using\n",
        "**np.random.seed**:\n"
      ]
    },
    {
      "cell_type": "markdown",
      "metadata": {
        "Collapsed": "false",
        "id": "28164MdTtm0Z"
      },
      "source": [
        "<img style=\"float: left;\" src=\"pic/pic_4_12.png\" width=\"700\">"
      ]
    },
    {
      "cell_type": "markdown",
      "metadata": {
        "Collapsed": "false",
        "id": "PcgCMWHStm0Z"
      },
      "source": [
        "## 4.7  Example: Random Walks"
      ]
    },
    {
      "cell_type": "markdown",
      "metadata": {
        "Collapsed": "false",
        "id": "Zy_VyZXBtm0Z"
      },
      "source": [
        "The simulation of random walks provides an illustrative application of utilizing array operations. Let’s first consider a simple random walk starting at 0 with steps of 1 and –1 occurring with equal probability. \n",
        "\n",
        "Here is a pure Python way to implement a single random walk with 1,000 steps using the built-in **random** module:\n"
      ]
    },
    {
      "cell_type": "code",
      "execution_count": null,
      "metadata": {
        "Collapsed": "false",
        "id": "sAO0jMZWtm0Z"
      },
      "outputs": [],
      "source": [
        "import random\n",
        "position = 0\n",
        "walk = [position]\n",
        "steps = 1000\n",
        "for i in range(steps):\n",
        "    step = 1 if random.randint(0, 1) else -1\n",
        "    position += step\n",
        "    walk.append(position)"
      ]
    },
    {
      "cell_type": "code",
      "execution_count": null,
      "metadata": {
        "Collapsed": "false",
        "id": "OzsRZFI1tm0Z"
      },
      "outputs": [],
      "source": [
        "plt.figure()\n",
        "\n",
        "plt.plot(walk[:100])"
      ]
    },
    {
      "cell_type": "markdown",
      "metadata": {
        "Collapsed": "false",
        "id": "VkRatXSbtm0Z"
      },
      "source": [
        "You might make the observation that walk is simply the cumulative sum of the random steps and could be evaluated as an array expression.   \n",
        "Thus, I use the **np.random** module to draw 1,000 coin flips at once, set these to 1 and –1, and compute the cumulative sum.\n"
      ]
    },
    {
      "cell_type": "code",
      "execution_count": null,
      "metadata": {
        "Collapsed": "false",
        "id": "xmdgniaatm0Z"
      },
      "outputs": [],
      "source": [
        "np.random.seed(20210301)"
      ]
    },
    {
      "cell_type": "code",
      "execution_count": null,
      "metadata": {
        "Collapsed": "false",
        "id": "6wuqdqEItm0Z"
      },
      "outputs": [],
      "source": [
        "nsteps = 100"
      ]
    },
    {
      "cell_type": "code",
      "execution_count": null,
      "metadata": {
        "Collapsed": "false",
        "id": "ZPnZU700tm0Z"
      },
      "outputs": [],
      "source": [
        "np.random.randint?"
      ]
    },
    {
      "cell_type": "code",
      "execution_count": null,
      "metadata": {
        "Collapsed": "false",
        "id": "QHU45Lj2tm0Z"
      },
      "outputs": [],
      "source": [
        "draws = np.random.randint(0, 2, size=nsteps)"
      ]
    },
    {
      "cell_type": "code",
      "execution_count": null,
      "metadata": {
        "Collapsed": "false",
        "id": "bqRPPuhjtm0Z"
      },
      "outputs": [],
      "source": [
        "draws"
      ]
    },
    {
      "cell_type": "code",
      "execution_count": null,
      "metadata": {
        "Collapsed": "false",
        "id": "rOccFS1etm0Z"
      },
      "outputs": [],
      "source": [
        "steps = np.where(draws > 0, 1, -1)"
      ]
    },
    {
      "cell_type": "code",
      "execution_count": null,
      "metadata": {
        "Collapsed": "false",
        "id": "v_i9RRVxtm0Z"
      },
      "outputs": [],
      "source": [
        "walk = steps.cumsum()"
      ]
    },
    {
      "cell_type": "code",
      "execution_count": null,
      "metadata": {
        "Collapsed": "false",
        "id": "4tnzXRVQtm0Z"
      },
      "outputs": [],
      "source": [
        "walk"
      ]
    },
    {
      "cell_type": "code",
      "execution_count": null,
      "metadata": {
        "Collapsed": "false",
        "id": "tHzgV_0btm0Z"
      },
      "outputs": [],
      "source": [
        "walk.min()"
      ]
    },
    {
      "cell_type": "code",
      "execution_count": null,
      "metadata": {
        "Collapsed": "false",
        "id": "XcmcG_3mtm0a"
      },
      "outputs": [],
      "source": [
        "walk.max()"
      ]
    },
    {
      "cell_type": "markdown",
      "metadata": {
        "Collapsed": "false",
        "id": "q_GTsxnBtm0a"
      },
      "source": [
        "A more complicated statistic is the first crossing time, the step at which the random walk reaches a particular value.   \n",
        "Here we might want to know how long it took the random walk to get at least 5 steps away from the origin 0 in either direction.   \n",
        "np.abs(walk) >= 5 gives us a boolean array indicating where the walk has reached or exceeded 5, but we want the index of the first 5 or –5.   \n",
        "Turns out, we can compute this using argmax, which returns the first index of the maximum value in the boolean array (True is the maximum value)."
      ]
    },
    {
      "cell_type": "code",
      "execution_count": null,
      "metadata": {
        "Collapsed": "false",
        "id": "Rif9-aettm0a"
      },
      "outputs": [],
      "source": [
        "(np.abs(walk) >= 5).argmax()"
      ]
    },
    {
      "cell_type": "markdown",
      "metadata": {
        "Collapsed": "false",
        "id": "OfLkQCFntm0a"
      },
      "source": [
        "### Simulating Many Random Walks at Once"
      ]
    },
    {
      "cell_type": "markdown",
      "metadata": {
        "Collapsed": "false",
        "id": "Md6HL15Wtm0a"
      },
      "source": [
        "If your goal was to simulate many random walks, say 5,000 of them, you can generate all of the random walks with minor modifications to the preceding code.   \n",
        "If passed a 2-tuple, the **numpy.random** functions will generate a two-dimensional array of draws, and we can compute the cumulative sum across the rows to compute all 5,000 random walks in one shot:\n"
      ]
    },
    {
      "cell_type": "code",
      "execution_count": null,
      "metadata": {
        "Collapsed": "false",
        "id": "R70L3MQDtm0a"
      },
      "outputs": [],
      "source": [
        "nwalks = 5000"
      ]
    },
    {
      "cell_type": "code",
      "execution_count": null,
      "metadata": {
        "Collapsed": "false",
        "id": "wWEdhCtwtm0a"
      },
      "outputs": [],
      "source": [
        "nsteps = 1000"
      ]
    },
    {
      "cell_type": "code",
      "execution_count": null,
      "metadata": {
        "Collapsed": "false",
        "id": "MCQo3jqntm0a"
      },
      "outputs": [],
      "source": [
        "draws = np.random.randint(0, 2, size=(nwalks, nsteps)) # 0 or 1"
      ]
    },
    {
      "cell_type": "code",
      "execution_count": null,
      "metadata": {
        "Collapsed": "false",
        "id": "NCF8nqtOtm0a"
      },
      "outputs": [],
      "source": [
        "steps = np.where(draws > 0, 1, -1)"
      ]
    },
    {
      "cell_type": "code",
      "execution_count": null,
      "metadata": {
        "Collapsed": "false",
        "id": "yhf95vRRtm0a"
      },
      "outputs": [],
      "source": [
        "walks = steps.cumsum(1)"
      ]
    },
    {
      "cell_type": "code",
      "execution_count": null,
      "metadata": {
        "Collapsed": "false",
        "id": "GfmREsCgtm0a"
      },
      "outputs": [],
      "source": [
        "walks"
      ]
    },
    {
      "cell_type": "code",
      "execution_count": null,
      "metadata": {
        "Collapsed": "false",
        "id": "35jIqdONtm0a"
      },
      "outputs": [],
      "source": [
        "walks.max()"
      ]
    },
    {
      "cell_type": "code",
      "execution_count": null,
      "metadata": {
        "Collapsed": "false",
        "id": "c6HCaYhdtm0a"
      },
      "outputs": [],
      "source": [
        "walks.min()"
      ]
    },
    {
      "cell_type": "markdown",
      "metadata": {
        "Collapsed": "false",
        "id": "GaX0vz0Jtm0a"
      },
      "source": [
        "Out of these walks, let’s compute the minimum crossing time to 30 or –30.   \n",
        "This is slightly tricky because not all 5,000 of them reach 30.   \n",
        "We can check this using the any method:\n"
      ]
    },
    {
      "cell_type": "code",
      "execution_count": null,
      "metadata": {
        "Collapsed": "false",
        "id": "rLJNS2tUtm0a"
      },
      "outputs": [],
      "source": [
        "hits30 = (np.abs(walks) >= 30).any(1)"
      ]
    },
    {
      "cell_type": "code",
      "execution_count": null,
      "metadata": {
        "Collapsed": "false",
        "id": "C7gROi41tm0b"
      },
      "outputs": [],
      "source": [
        "hits30"
      ]
    },
    {
      "cell_type": "code",
      "execution_count": null,
      "metadata": {
        "Collapsed": "false",
        "id": "2hSSM1ngtm0b"
      },
      "outputs": [],
      "source": [
        "hits30.sum() # Number that hit 30 or -30"
      ]
    },
    {
      "cell_type": "code",
      "execution_count": null,
      "metadata": {
        "Collapsed": "false",
        "id": "0laEhNUQtm0b"
      },
      "outputs": [],
      "source": [
        "crossing_times = (np.abs(walks[hits30]) >= 30).argmax(1)\n",
        "crossing_times"
      ]
    },
    {
      "cell_type": "code",
      "execution_count": null,
      "metadata": {
        "Collapsed": "false",
        "id": "d7X2oGMvtm0b"
      },
      "outputs": [],
      "source": [
        "crossing_times.mean()"
      ]
    },
    {
      "cell_type": "code",
      "execution_count": null,
      "metadata": {
        "Collapsed": "false",
        "id": "1cpLYD1mtm0b"
      },
      "outputs": [],
      "source": [
        ""
      ]
    }
  ],
  "metadata": {
    "kernelspec": {
      "display_name": "Python 3",
      "language": "python",
      "name": "python3"
    },
    "language_info": {
      "codemirror_mode": {
        "name": "ipython",
        "version": 3
      },
      "file_extension": ".py",
      "mimetype": "text/x-python",
      "name": "python",
      "nbconvert_exporter": "python",
      "pygments_lexer": "ipython3",
      "version": "3.7.6"
    },
    "colab": {
      "name": "ch04_Numpy_Basics.ipynb",
      "provenance": [],
      "collapsed_sections": [
        "x29VRn5Ztm0I",
        "pdlbmhXttm0P",
        "xDnwDCAUtm0Q",
        "n45Q6M3Ntm0Q",
        "adZv4RO-tm0R",
        "qaAOOEVhtm0T",
        "MBbwsXxVtm0U",
        "N9v-S4thtm0V",
        "xXJCee-Wtm0W",
        "UWTruk1utm0W",
        "OIGrXrQQtm0X",
        "XnlBJQFdtm0Y",
        "PcgCMWHStm0Z",
        "OfLkQCFntm0a"
      ],
      "include_colab_link": true
    }
  },
  "nbformat": 4,
  "nbformat_minor": 0
}